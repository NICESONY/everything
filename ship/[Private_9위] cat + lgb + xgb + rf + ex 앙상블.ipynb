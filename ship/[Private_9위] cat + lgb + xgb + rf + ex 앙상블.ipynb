{
 "cells": [
  {
   "cell_type": "markdown",
   "id": "a75f9f36",
   "metadata": {},
   "source": [
    "<h3> 1. 필요한 라이브러리 모두 불러오기 </h3>"
   ]
  },
  {
   "cell_type": "code",
   "execution_count": 1,
   "id": "9a0c3a8a",
   "metadata": {},
   "outputs": [],
   "source": [
    "import numpy as np\n",
    "import pandas as pd\n",
    "import matplotlib.pyplot as plt\n",
    "import seaborn as sns\n",
    "\n",
    "%matplotlib inline\n",
    "import warnings\n",
    "warnings.filterwarnings('ignore')\n",
    "\n",
    "from sklearn.model_selection import train_test_split\n",
    "from sklearn.ensemble import RandomForestRegressor, ExtraTreesRegressor\n",
    "import lightgbm as lgb\n",
    "import xgboost as xgb\n",
    "from catboost import CatBoostClassifier\n",
    "\n",
    "from sklearn.linear_model import LinearRegression\n",
    "from sklearn.model_selection import StratifiedShuffleSplit\n",
    "from sklearn.metrics import accuracy_score, log_loss\n",
    "from sklearn.neighbors import KNeighborsRegressor\n",
    "from sklearn.svm import SVC\n",
    "from sklearn.tree import DecisionTreeRegressor\n",
    "from sklearn.ensemble import RandomForestRegressor, AdaBoostRegressor, GradientBoostingRegressor, ExtraTreesRegressor"
   ]
  },
  {
   "cell_type": "markdown",
   "id": "d65143c4",
   "metadata": {},
   "source": [
    "<h3> 2. 데이터를 살펴보기 위한 함수 설정하기 </h3>\n",
    "<p> 저같은 경우에는 EDA를 할 때 기본적인 틀이 존재해서 함수로 설정하였습니다. </h3>"
   ]
  },
  {
   "cell_type": "code",
   "execution_count": 2,
   "id": "e55a90d5",
   "metadata": {},
   "outputs": [],
   "source": [
    "def data_info(df : pd.DataFrame) -> None:\n",
    "    print('column의 개수 : ', len(df.columns))\n",
    "    print('데이터의 개수 : ', len(df))\n",
    "    print('데이터의 shape : ', df.shape)\n",
    "    print('categorical 변수의 개수 : ', len(df.columns[df.dtypes == 'object']))\n",
    "    print('categorical 컬럼 : ', df.columns[df.dtypes == 'object'])\n",
    "    print('numerical 변수의 개수 : ', len(df.columns[df.dtypes != 'object']))\n",
    "    print('numerical 컬럼 : ', df.columns[df.dtypes != 'object'])\n",
    "    print('결측치 개수 : ', df.isnull().sum().sum())\n",
    "    print('====================================================================')\n",
    "    print('컬럼 이름 : ', df.columns)"
   ]
  },
  {
   "cell_type": "code",
   "execution_count": 3,
   "id": "87462b9e",
   "metadata": {},
   "outputs": [],
   "source": [
    "def search_columns(df : pd.DataFrame, columns : str, target : str) -> None:\n",
    "    print('컬럼명 : ', columns)\n",
    "    print('컬럼 분포 ', df[columns].value_counts(normalize = True).sort_values(ascending = True))\n",
    "    print('라벨 별 target 비율 : ', df.groupby(columns)[target].mean())\n",
    "\n",
    "# 분류 문제에서만 사용\n",
    "def search_target_ratio(df : pd.DataFrame, columns : str, target : str) -> None:\n",
    "    return pd.crosstab(df[columns], df[target], margins = True, normalize = 'index').style.background_gradient(cmap = 'summer_r')\n",
    "\n",
    "\n",
    "# 연속형 변수들에 대한 분포 확인하기\n",
    "def numerical_plot(df : pd.DataFrame, columns : list, nrows : int, ncols : int, row_size : int, col_size : int) -> None:\n",
    "    fig, axes = plt.subplots(nrows, ncols, figsize = (row_size, col_size))\n",
    "    count = 0\n",
    "    for i in range(nrows):\n",
    "        for j in range(ncols):\n",
    "            sns.distplot(x = df[columns[count]], ax = axes[i][j])\n",
    "            axes[i][j].set_title(columns[count] + 'column distribution')\n",
    "            axes[i][j].set_xlabel(columns[count])\n",
    "            count += 1\n",
    "\n",
    "# 상관계수 확인하기\n",
    "def correlation_matrix(df : pd.DataFrame, numerical_columns : list, figsize : tuple) -> None:\n",
    "    colormap = plt.cm.PuBu\n",
    "    plt.title('Pearson Corrleation of data')\n",
    "    plt.figure(figsize = figsize)\n",
    "    if len(numerical_columns) <= 20:\n",
    "        sns.heatmap(df[numerical_columns].astype(float).corr(), linewidths = 0.1, vmax = 1.0,\n",
    "            square = True, cmap = colormap, linecolor = \"white\", annot = True, annot_kws = {\"size\" : 16})\n",
    "    else:\n",
    "        sns.heatmap(df[numerical_columns].astype(float).corr(), linewidths = 0.1, vmax = 1.0, square = True, cmap = colormap)\n",
    "\n",
    "def describe_matrix(df : pd.DataFrame) -> pd.DataFrame:\n",
    "    return df.describe()\n",
    "\n",
    "# 범주형 변수에 대한 countplot\n",
    "def column_bar_plot(df : pd.DataFrame, columns : str) -> None:\n",
    "    sns.countplot(x = df[columns])\n",
    "    \n",
    "# 이상치 처리\n",
    "def outlier_to_normal(x, lower_bound, upper_bound):\n",
    "    if x < lower_bound:\n",
    "        return lower_bound\n",
    "    elif x > upper_bound:\n",
    "        return upper_bound\n",
    "    else:\n",
    "        return x\n",
    "    \n",
    "# 이상치 처리 -> Q3 이상 값에 대해서는 Q3 값으로 처리\n",
    "def outlier_transform(train_df : pd.DataFrame, test_df : pd.DataFrame, \n",
    "                      columns : list) -> (pd.DataFrame, pd.DataFrame):\n",
    "    for column in columns:\n",
    "        q1 = np.percentile(train_df[column], 25)\n",
    "        q3 = np.percentile(train_df[column], 75)\n",
    "        lower_bound = q1 - 1.5 * (q3 - q1)\n",
    "        upper_bound = q3 + 1.5 * (q3 - q1)\n",
    "        train_df[column] = train_df[column].apply(lambda x : \n",
    "                                        outlier_to_normal(x, lower_bound, upper_bound))\n",
    "        test_df[column] = test_df[column].apply(lambda x : \n",
    "                                                outlier_to_normal(x, lower_bound, upper_bound))\n",
    "    return (train_df, test_df)\n",
    "    \n",
    "# 범주형 변수 => 라벨인코딩\n",
    "from sklearn.preprocessing import LabelEncoder\n",
    "def categorical_column_preprocessing(train_df : pd.DataFrame, test_df : pd.DataFrame, columns : list) -> (pd.DataFrame, pd.DataFrame):\n",
    "    train_data = train_df.copy()\n",
    "    test_data = test_df.copy()\n",
    "    for column in columns:\n",
    "        le = LabelEncoder()\n",
    "        le.fit(train_data[column])\n",
    "        print(column + ' label encoder classes', le.classes_)\n",
    "        train_data[column] = le.transform(train_data[column])\n",
    "        test_data[column] = le.transform(test_data[column])\n",
    "\n",
    "    return (train_data, test_data)\n",
    "\n",
    "# 표준화\n",
    "def standard_scaler(train_df : pd.DataFrame, test_df : pd.DataFrame, categorical_columns, numeric_columns : list) -> (pd.DataFrame, pd.DataFrame):\n",
    "    from sklearn.preprocessing import StandardScaler\n",
    "\n",
    "    scaler = StandardScaler()\n",
    "    scaler.fit(train_df[numeric_columns])\n",
    "    x_scaled = pd.DataFrame(scaler.transform(train_df[numeric_columns]), columns = numeric_columns)\n",
    "    x_test_scaled = pd.DataFrame(scaler.transform(test_df[numeric_columns]), columns = numeric_columns)\n",
    "\n",
    "    train_data = pd.concat([train_df[categorical_columns], x_scaled], axis = 1)\n",
    "    test_data = pd.concat([test_df[categorical_columns], x_test_scaled], axis = 1)\n",
    "    return (train_data, test_data)\n",
    "\n",
    "# 로그화\n",
    "def log_transform(train_df : pd.DataFrame, test_df : pd.DataFrame, categorical_columns, numeric_columns : list) -> (pd.DataFrame, pd.DataFrame):\n",
    "\n",
    "    train_df[numeric_columns] = np.log1p(train_df[numeric_columns])\n",
    "    test_df[numeric_columns] = np.log1p(test_df[numeric_columns])\n",
    "    return (train_df, test_df)\n",
    "\n",
    "# 정규화(Minmax-scaler)\n",
    "def minmax_scaler(train_df : pd.DataFrame, test_df : pd.DataFrame, categorical_columns, numeric_columns : list) -> (pd.DataFrame, pd.DataFrame):\n",
    "    from sklearn.preprocessing import MinMaxScaler\n",
    "\n",
    "    scaler = MinMaxScaler()\n",
    "    scaler.fit(train_df[numeric_columns])\n",
    "    x_scaled = pd.DataFrame(scaler.transform(train_df[numeric_columns]), columns = numeric_columns)\n",
    "    x_test_scaled = pd.DataFrame(scaler.transform(test_df[numeric_columns]), columns = numeric_columns)\n",
    "\n",
    "    train_data = pd.concat([train_df[categorical_columns], x_scaled], axis = 1)\n",
    "    test_data = pd.concat([test_df[categorical_columns], x_test_scaled], axis = 1)\n",
    "    return (train_data, test_data)\n",
    "\n",
    "# 학습 / 테스트 분리하기\n",
    "def train_test(X : pd.DataFrame, y : pd.DataFrame, test_size : float, random_state = 42) -> (pd.DataFrame, pd.DataFrame, pd.DataFrame, pd.DataFrame):\n",
    "    X_train, X_valid, y_train, y_valid = train_test_split(X, y, test_size = test_size, random_state = 42, stratify = y)\n",
    "    return X_train, X_valid, y_train, y_valid"
   ]
  },
  {
   "cell_type": "markdown",
   "id": "748a0118",
   "metadata": {},
   "source": [
    "<h3> 3. 데이터 불러오기 및 데이터 전처리 </h3>"
   ]
  },
  {
   "cell_type": "code",
   "execution_count": 4,
   "id": "3da91af8",
   "metadata": {},
   "outputs": [],
   "source": [
    "import random\n",
    "\n",
    "random.seed(42)\n",
    "\n",
    "train_df = pd.read_csv('train.csv').drop('ID', axis = 1).drop_duplicates().reset_index(drop = True)\n",
    "test_df = pd.read_csv('test.csv').drop('ID', axis = 1)\n",
    "submission_df = pd.read_csv('sample_submission.csv')\n",
    "\n",
    "target = 'monthlyRent(us_dollar)'"
   ]
  },
  {
   "cell_type": "markdown",
   "id": "7552a96a",
   "metadata": {},
   "source": [
    "<p> suburbName에 너무 많아서 라벨인코딩시에 부정적 영향(스케일이 큰 것을 크게 측정)을 줄 수 있어서 대체하였습니다. 또한, 일부분은 1개만 존재하거나 수가 적었기 때문에 다른 것을 통합하였습니다.</p>"
   ]
  },
  {
   "cell_type": "code",
   "execution_count": 5,
   "id": "1a90144b",
   "metadata": {},
   "outputs": [],
   "source": [
    "train_df.loc[(train_df['suburbName'] == 'West Delhi'), 'suburbName'] = 'Delhi West'\n",
    "train_df.loc[train_df['suburbName'] == 'North Delhi', 'suburbName'] = 'Delhi North'\n",
    "train_df.loc[train_df['suburbName'] == 'Dwarka', 'suburbName'] = 'North West Delhi'\n",
    "train_df.loc[train_df['suburbName'] == 'Rohini', 'suburbName'] = 'South West Delhi'\n",
    "train_df.loc[train_df['propertyType'] == 'Villa', 'propertyType'] = 'Independent Floor'\n",
    "\n",
    "test_df.loc[(test_df['suburbName'] == 'West Delhi'), 'suburbName'] = 'Delhi West'\n",
    "test_df.loc[test_df['suburbName'] == 'North Delhi', 'suburbName'] = 'Delhi North'\n",
    "test_df.loc[test_df['suburbName'] == 'Dwarka', 'suburbName'] = 'North West Delhi'\n",
    "test_df.loc[test_df['suburbName'] == 'Rohini', 'suburbName'] = 'South West Delhi'\n",
    "test_df.loc[test_df['propertyType'] == 'Villa', 'propertyType'] = 'Independent Floor'"
   ]
  },
  {
   "cell_type": "markdown",
   "id": "c1648f5c",
   "metadata": {},
   "source": [
    "<p> 위도와 경도에 대해서 군집화를 실행하고 각 군집 별로 라벨링을 붙였습니다.</p>"
   ]
  },
  {
   "cell_type": "code",
   "execution_count": 6,
   "id": "633ca5e4",
   "metadata": {},
   "outputs": [],
   "source": [
    "from sklearn.cluster import KMeans\n",
    "\n",
    "x = train_df.loc[:, ['latitude', 'longitude']]\n",
    "x_test = test_df.loc[:, ['latitude', 'longitude']]\n",
    "kmeans = KMeans(4, init = 'k-means++',  n_init= 20)\n",
    "kmeans.fit(x)\n",
    "\n",
    "train_clusters = kmeans.predict(x)\n",
    "test_clusters = kmeans.predict(x_test)\n",
    "\n",
    "train_df['cluster'] = train_clusters\n",
    "test_df['cluster'] = test_clusters"
   ]
  },
  {
   "cell_type": "code",
   "execution_count": 7,
   "id": "38eb205d",
   "metadata": {},
   "outputs": [
    {
     "data": {
      "text/plain": [
       "(76.6, 77.5)"
      ]
     },
     "execution_count": 7,
     "metadata": {},
     "output_type": "execute_result"
    },
    {
     "data": {
      "image/png": "[encoded data removed]",
      "text/plain": [
       "<Figure size 432x288 with 1 Axes>"
      ]
     },
     "metadata": {
      "needs_background": "light"
     },
     "output_type": "display_data"
    }
   ],
   "source": [
    "plt.scatter(train_df['latitude'], train_df['longitude'],\n",
    "           c = train_df['cluster'], cmap = 'rainbow')\n",
    "plt.xlim([28.2, 28.8])\n",
    "plt.ylim([76.6, 77.5])"
   ]
  },
  {
   "cell_type": "markdown",
   "id": "dbc07dce",
   "metadata": {},
   "source": [
    "<p> 범주형 변수 처리, 이상치 처리, 표준화, 로그화를 진행하였습니다. 실제 학습시킨 데이터는 라벨인코딩/이상치/로그화 입니다.</p>"
   ]
  },
  {
   "cell_type": "code",
   "execution_count": 8,
   "id": "1f694b5c",
   "metadata": {},
   "outputs": [
    {
     "name": "stdout",
     "output_type": "stream",
     "text": [
      "propertyType label encoder classes ['Apartment' 'Independent Floor' 'Independent House']\n",
      "suburbName label encoder classes ['Delhi Central' 'Delhi East' 'Delhi North' 'Delhi South' 'Delhi West'\n",
      " 'North West Delhi' 'Other' 'South West Delhi']\n"
     ]
    }
   ],
   "source": [
    "train_df_encoder, test_df_encoder = categorical_column_preprocessing(train_df, test_df, \n",
    "                                                     ['propertyType', 'suburbName'])"
   ]
  },
  {
   "cell_type": "code",
   "execution_count": 9,
   "id": "42afc479",
   "metadata": {},
   "outputs": [],
   "source": [
    "numerical_columns = ['bedrooms', 'distanceMetro(km)',\n",
    "                    'distanceAirport(km)', 'distanceHospital(km)',\n",
    "                    'distanceRailway(km)', 'area(square_meters)', 'latitude', 'longitude']\n",
    "outlier_train, outlier_test = outlier_transform(train_df_encoder, test_df_encoder, numerical_columns)"
   ]
  },
  {
   "cell_type": "code",
   "execution_count": 87,
   "id": "498d317c",
   "metadata": {},
   "outputs": [
    {
     "data": {
      "text/plain": [
       "Index(['propertyType', 'bedrooms', 'latitude', 'longitude', 'suburbName',\n",
       "       'distanceMetro(km)', 'distanceAirport(km)', 'distanceHospital(km)',\n",
       "       'distanceRailway(km)', 'area(square_meters)', 'monthlyRent(us_dollar)',\n",
       "       'cluster'],\n",
       "      dtype='object')"
      ]
     },
     "execution_count": 87,
     "metadata": {},
     "output_type": "execute_result"
    }
   ],
   "source": [
    "outlier_train.columns"
   ]
  },
  {
   "cell_type": "code",
   "execution_count": 10,
   "id": "2351305d",
   "metadata": {},
   "outputs": [],
   "source": [
    "numerical_columns = ['bedrooms', 'distanceMetro(km)',\n",
    "                    'distanceAirport(km)', 'distanceHospital(km)',\n",
    "                    'distanceRailway(km)', 'area(square_meters)', 'latitude', 'longitude']\n",
    "categorical_columns = ['propertyType', 'suburbName',  target]\n",
    "standard_train, standard_test = standard_scaler(outlier_train, outlier_test, categorical_columns[:-1], \n",
    "                                   numerical_columns)"
   ]
  },
  {
   "cell_type": "code",
   "execution_count": 11,
   "id": "5cd6d6c9",
   "metadata": {},
   "outputs": [],
   "source": [
    "numerical_columns = ['bedrooms', 'distanceMetro(km)',\n",
    "                    'distanceAirport(km)', 'distanceHospital(km)',\n",
    "                    'distanceRailway(km)', 'area(square_meters)', 'latitude', 'longitude']\n",
    "categorical_columns = ['propertyType', 'suburbName', target]\n",
    "log_train, log_test = log_transform(outlier_train, outlier_test, categorical_columns[:-1], \n",
    "                                   numerical_columns)"
   ]
  },
  {
   "cell_type": "markdown",
   "id": "d7a96769",
   "metadata": {},
   "source": [
    "<h3> 4. 모델 구축 -- 베이스라인 모델 측정 </h3>"
   ]
  },
  {
   "cell_type": "code",
   "execution_count": 14,
   "id": "8ed1958a",
   "metadata": {
    "scrolled": true
   },
   "outputs": [
    {
     "name": "stdout",
     "output_type": "stream",
     "text": [
      "====================================== 베이스 라인 모델 평가 ==========================================\n",
      "모델명 : ExtraTreesRegressor   평균 RMSE : 0.2585, 표준편차 : 0.0111\n",
      "모델명 : LinearRegression   평균 RMSE : 0.3127, 표준편차 : 0.0134\n",
      "모델명 : Ridge   평균 RMSE : 0.3205, 표준편차 : 0.0133\n",
      "모델명 : RandomForestRegressor   평균 RMSE : 0.2575, 표준편차 : 0.0144\n",
      "모델명 : GradientBoostingRegressor   평균 RMSE : 0.2686, 표준편차 : 0.0107\n",
      "모델명 : XGBRegressor   평균 RMSE : 0.2536, 표준편차 : 0.0119\n",
      "모델명 : LGBMRegressor   평균 RMSE : 0.2513, 표준편차 : 0.0145\n",
      "모델명 : AdaBoostRegressor   평균 RMSE : 0.3506, 표준편차 : 0.0090\n",
      "모델명 : CatBoostRegressor   평균 RMSE : 0.2459, 표준편차 : 0.0116\n"
     ]
    }
   ],
   "source": [
    "from sklearn.ensemble import RandomForestRegressor, GradientBoostingRegressor\n",
    "from sklearn.tree import DecisionTreeRegressor\n",
    "from sklearn.ensemble import ExtraTreesRegressor\n",
    "from xgboost import XGBRegressor\n",
    "from lightgbm import LGBMRegressor\n",
    "from sklearn.linear_model import ElasticNet\n",
    "from sklearn.ensemble import AdaBoostRegressor, VotingRegressor\n",
    "from catboost import CatBoostRegressor, Pool\n",
    "from ngboost import NGBRegressor\n",
    "from sklearn.experimental import enable_hist_gradient_boosting\n",
    "from sklearn.linear_model import LinearRegression, Lasso, Ridge, ElasticNet\n",
    "from sklearn.model_selection import cross_val_score\n",
    "\n",
    "X = log_train.drop(target, axis = 1)\n",
    "y = np.log1p(log_train[target])\n",
    "ex_rlf = ExtraTreesRegressor(random_state = 42)\n",
    "lr_rlf = LinearRegression()\n",
    "rg_rlf = Ridge()\n",
    "rf_rlf = RandomForestRegressor(random_state = 42)\n",
    "gb_rlf = GradientBoostingRegressor(random_state = 42)\n",
    "xgb_rlf = xgb.XGBRegressor(random_state = 42)\n",
    "lgb_rlf = lgb.LGBMRegressor(random_state = 42)\n",
    "ada_rlf = AdaBoostRegressor(random_state = 42)\n",
    "cat_rlf = CatBoostRegressor(random_state = 42, loss_function = 'RMSE', verbose = 0)\n",
    "\n",
    "models = [ex_rlf, lr_rlf, rg_rlf, rf_rlf, gb_rlf, xgb_rlf, lgb_rlf,\n",
    "         ada_rlf, cat_rlf]\n",
    "\n",
    "print('====================================== 베이스 라인 모델 평가 ==========================================')\n",
    "for model in models:\n",
    "    cv_score = cross_val_score(model, X, y, cv = 10, scoring = 'neg_mean_squared_error')\n",
    "    rmse_score = np.sqrt(-1 * cv_score)\n",
    "    avg_rmse = rmse_score.mean()\n",
    "    avg_std = rmse_score.std()\n",
    "    print('모델명 : {}  '.format(model.__class__.__name__), end = ' ')\n",
    "    print('평균 RMSE : {0:.4f}, 표준편차 : {1:.4f}'.format(avg_rmse, avg_std))"
   ]
  },
  {
   "cell_type": "markdown",
   "id": "a0d436ac",
   "metadata": {},
   "source": [
    "<h3> 5. 하이퍼 파라미터 튜닝 -- Optuna로 진행 </h3>"
   ]
  },
  {
   "cell_type": "code",
   "execution_count": 16,
   "id": "c3bb9bee",
   "metadata": {},
   "outputs": [],
   "source": [
    "import optuna\n",
    "from optuna import Trial\n",
    "from optuna.samplers import TPESampler"
   ]
  },
  {
   "cell_type": "code",
   "execution_count": 125,
   "id": "a916a9e4",
   "metadata": {},
   "outputs": [],
   "source": [
    "from sklearn.model_selection import StratifiedKFold, train_test_split\n",
    "from sklearn.metrics import accuracy_score\n",
    "import xgboost as xgb\n",
    "def tune_model(model_type, X, Y, n_trials=500, cv=10):\n",
    "    skf = StratifiedKFold(n_splits=cv)\n",
    "    \n",
    "    if model_type=='lgb':\n",
    "        def objective(trial):\n",
    "            params = {\n",
    "                'num_leaves': trial.suggest_int('num_leaves', 300, 824, step=1, log=True), \n",
    "                'max_depth': trial.suggest_int('max_depth', 6, 20, step=1, log=False), \n",
    "                'learning_rate': trial.suggest_float('learning_rate', 0.0001, 0.1, log=True), \n",
    "                'n_estimators': trial.suggest_int('n_estimators', 1500, 3000, step=1, log=True), \n",
    "                'class_weight': trial.suggest_categorical('class_weight', ['balanced', None]),\n",
    "                'min_child_samples': trial.suggest_int('min_child_samples', 10, 50, step=1, log=False), \n",
    "                'subsample': trial.suggest_uniform('subsample', 0.7, 1.0), \n",
    "                'colsample_bytree': trial.suggest_uniform('colsample_bytree', 0.7, 1.0),\n",
    "                'reg_alpha': trial.suggest_uniform('reg_alpha', 0.0, 1.0),\n",
    "                'reg_lambda': trial.suggest_uniform('reg_lambda', 0.0, 1.0),\n",
    "            }\n",
    "            model = lgb.LGBMRegressor(random_state = 42, **params)\n",
    "            score = cross_val_score(model, X, Y, cv = 10, scoring = 'neg_mean_squared_error')\n",
    "            rmse_score = np.sqrt(-1 * score)\n",
    "            avg_rmse = rmse_score.mean()\n",
    "            avg_std = rmse_score.std()\n",
    "            print(avg_rmse, avg_std)\n",
    "            return avg_rmse\n",
    "    \n",
    "\n",
    "    elif model_type=='cat':\n",
    "         def objective(trial):\n",
    "            params={}\n",
    "            params['n_estimators'] = trial.suggest_int('n_estimators', 50, 500)\n",
    "            params['learning_rate'] = trial.suggest_loguniform('learning_rate', 0.03, 0.5)\n",
    "            params['max_depth'] = trial.suggest_int('max_depth', 6, 12)\n",
    "            params['reg_lambda'] = trial.suggest_loguniform('reg_lambda', 1e-4, 30)\n",
    "            params['random_strength'] = trial.suggest_uniform('random_strength', 0.1, 30)\n",
    "            params['bootstrap_type'] = trial.suggest_categorical('bootstrap_type', ['Bayesian'])\n",
    "            params['bagging_temperature'] = trial.suggest_uniform('bagging_temperature', 0, 30)\n",
    "             \n",
    "            model = CatBoostRegressor(random_state = 42, verbose = 0, **params)\n",
    "            score = cross_val_score(model, X, Y, cv = 10, scoring = 'neg_mean_squared_error')\n",
    "            rmse_score = np.sqrt(-1 * score)\n",
    "            avg_rmse = rmse_score.mean()\n",
    "            avg_std = rmse_score.std()\n",
    "            print(avg_rmse, avg_std)\n",
    "            return avg_rmse\n",
    "\n",
    "        \n",
    "    elif model_type=='rf':\n",
    "        def objective(trial):\n",
    "            n_estimators = trial.suggest_int('n_estimators', 1000, 3000)\n",
    "            max_depth = trial.suggest_int('max_depth', 6, 20)\n",
    "            max_features = trial.suggest_uniform('max_features', 0, 1)\n",
    "            max_leaf_nodes = trial.suggest_int('max_leaf_nodes', 2, 250)\n",
    "            criterion = trial.suggest_categorical('criterion', ['friedman_mse','squared_error'])\n",
    "            params = {'n_estimators' : n_estimators, \n",
    "                     'max_features' : max_features, \n",
    "                      'max_depth' : max_depth,\n",
    "                      'criterion' : criterion,\n",
    "                      'max_leaf_nodes' : max_leaf_nodes,\n",
    "                     }\n",
    "            model = RandomForestRegressor(random_state = 42, **params)\n",
    "            score = cross_val_score(model, X, Y, cv = 10, scoring = 'neg_mean_squared_error')\n",
    "            rmse_score = np.sqrt(-1 * score)\n",
    "            avg_rmse = rmse_score.mean()\n",
    "            avg_std = rmse_score.std()\n",
    "            print(avg_rmse, avg_std)\n",
    "            return avg_rmse\n",
    "        \n",
    "        \n",
    "    elif model_type=='ets':\n",
    "        def objective(trial):\n",
    "            params = {\n",
    "                \"n_estimators\": trial.suggest_int(\"n_estimators\", 100, 500),\n",
    "                \"criterion\": trial.suggest_categorical(\"criterion\", ['squared_error']),\n",
    "                \"max_depth\": trial.suggest_int(\"max_depth\", 4,14),\n",
    "                \"min_samples_split\": trial.suggest_int(\"min_samples_split\",2,20),\n",
    "                \"min_samples_leaf\": trial.suggest_int(\"min_samples_leaf\",1, 100),\n",
    "            }\n",
    "\n",
    "            model = ExtraTreesRegressor(random_state = 42, **params)\n",
    "            score = cross_val_score(model, X, Y, cv = 10, scoring = 'neg_mean_squared_error')\n",
    "            rmse_score = np.sqrt(-1 * score)\n",
    "            avg_rmse = rmse_score.mean()\n",
    "            avg_std = rmse_score.std()\n",
    "            print(avg_rmse, avg_std)\n",
    "            return avg_rmse\n",
    "\n",
    "\n",
    "    elif model_type == 'xgb':\n",
    "        def objective(trial):\n",
    "            params = {\n",
    "        \"max_depth\": trial.suggest_int(\"max_depth\", 6, 16),\n",
    "        \"learning_rate\": trial.suggest_float('learning_rate', 0.05, 0.99),\n",
    "        'n_estimators': trial.suggest_int(\"n_estimators\", 1000, 10000, step=100),\n",
    "        \"colsample_bytree\": trial.suggest_float(\"colsample_bytree\", 0.5, 1.0),\n",
    "        \"colsample_bylevel\": trial.suggest_float(\"colsample_bylevel\", 0.5, 1.0),\n",
    "        \"colsample_bynode\": trial.suggest_float(\"colsample_bynode\", 0.5, 1.0),\n",
    "        \"reg_lambda\": trial.suggest_float(\"reg_lambda\", 1e-2, 1, log= True),\n",
    "        \"reg_alpha\": trial.suggest_float(\"reg_alpha\", 1e-2, 1, log= True),\n",
    "        'subsample': trial.suggest_float('subsample', 0.6, 1.0, step = 0.05),     \n",
    "        'min_child_weight': trial.suggest_int('min_child_weight', 2, 15),\n",
    "        \"gamma\": trial.suggest_float(\"gamma\", 0.1, 1.0, log=True),\n",
    "            }\n",
    "\n",
    "            model = xgb.XGBRegressor(random_state = 42, **params)\n",
    "            score = cross_val_score(model, X, Y, cv = 10, scoring = 'neg_mean_squared_error')\n",
    "            rmse_score = np.sqrt(-1 * score)\n",
    "            avg_rmse = rmse_score.mean()\n",
    "            avg_std = rmse_score.std()\n",
    "            print(avg_rmse, avg_std)\n",
    "            return avg_rmse\n",
    "    \n",
    "    sampler = TPESampler(seed=42)\n",
    "    study=optuna.create_study(direction='minimize', \n",
    "                              sampler = sampler)\n",
    "    study.optimize(objective, n_trials=n_trials)\n",
    "    print(f\"Model : {model_type}, Best Score : {study.best_value}, Best Params : {study.best_params}\")\n",
    "    return study.best_params"
   ]
  },
  {
   "cell_type": "code",
   "execution_count": 35,
   "id": "0e2da8aa",
   "metadata": {},
   "outputs": [],
   "source": [
    "lgb_params = {'num_leaves': 336, 'max_depth': 6, 'learning_rate': 0.016397540368664684, 'n_estimators': 1663, 'class_weight': None, 'min_child_samples': 10, 'subsample': 0.8814135267862333, 'colsample_bytree': 0.7687915082406303, 'reg_alpha': 0.1505001351493313, 'reg_lambda': 0.10096359200658506}\n",
    "ex_params = {'n_estimators': 417, 'criterion': 'squared_error', 'max_depth': 14, 'min_samples_split': 6, 'min_samples_leaf': 1}\n",
    "rf_params = {'n_estimators': 1371, 'max_depth': 15, 'max_features': 0.3152787366490212, 'max_leaf_nodes': 249, 'criterion': 'squared_error'}\n",
    "cat_params = {'n_estimators': 457, 'learning_rate': 0.04877783049463647, 'max_depth': 9, 'reg_lambda': 0.6445607071063436, 'random_strength': 1.1307597759505224, 'bootstrap_type': 'Bayesian', 'bagging_temperature': 0.1347780701107058}\n",
    "\n",
    "cat_rlf = CatBoostRegressor(**cat_params, random_state = 42, verbose = 0)\n",
    "lgb_rlf = lgb.LGBMRegressor(**lgb_params, random_state = 42)\n",
    "ex_rlf = ExtraTreesRegressor(**ex_params, random_state = 42)\n",
    "rf_rlf = RandomForestRegressor(**rf_params, random_state = 42)\n",
    "xgb_rlf = xgb.XGBRegressor(random_state = 42)\n",
    "cat_rlf.fit(X, y)\n",
    "lgb_rlf.fit(X, y)\n",
    "ex_rlf.fit(X, y)\n",
    "rf_rlf.fit(X, y)\n",
    "xgb_rlf.fit(X, y)\n",
    "\n",
    "cat_pred = cat_rlf.predict(log_test)\n",
    "lgb_pred = lgb_rlf.predict(log_test)\n",
    "ex_pred = ex_rlf.predict(log_test)\n",
    "rf_pred = rf_rlf.predict(log_test)\n",
    "xgb_pred = xgb_rlf.predict(log_test)"
   ]
  },
  {
   "cell_type": "markdown",
   "id": "309e056b",
   "metadata": {},
   "source": [
    "<p> 최종 제출 : catboost, lightgbm, extratree, randomforest, xgboost </p>"
   ]
  },
  {
   "cell_type": "code",
   "execution_count": 36,
   "id": "7dc52c95",
   "metadata": {},
   "outputs": [],
   "source": [
    "vt_pred = np.expm1(cat_pred) * 0.3 + np.expm1(lgb_pred) * 0.25 + np.expm1(ex_pred) * 0.3 + np.expm1(rf_pred) * 0.05 + np.expm1(xgb_pred) * 0.1\n",
    "submission_df[target] = vt_pred\n",
    "submission_df.to_csv('log ensemble finally_1226_Version2.csv', index = False)"
   ]
  }
 ],
 "metadata": {
  "kernelspec": {
   "display_name": "Python 3 (ipykernel)",
   "language": "python",
   "name": "python3"
  },
  "language_info": {
   "codemirror_mode": {
    "name": "ipython",
    "version": 3
   },
   "file_extension": ".py",
   "mimetype": "text/x-python",
   "name": "python",
   "nbconvert_exporter": "python",
   "pygments_lexer": "ipython3",
   "version": "3.9.7"
  }
 },
 "nbformat": 4,
 "nbformat_minor": 5
}
