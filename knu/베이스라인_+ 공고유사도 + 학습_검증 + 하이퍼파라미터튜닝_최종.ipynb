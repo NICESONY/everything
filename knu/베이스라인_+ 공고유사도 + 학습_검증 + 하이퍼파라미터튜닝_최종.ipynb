{
 "cells": [
  {
   "cell_type": "code",
   "execution_count": 1,
   "id": "c9a005fc-4c85-440d-a474-c44c87f1e5dc",
   "metadata": {},
   "outputs": [
    {
     "name": "stderr",
     "output_type": "stream",
     "text": [
      "c:\\Users\\User\\AppData\\Local\\Programs\\Python\\Python310\\lib\\site-packages\\tqdm\\auto.py:21: TqdmWarning: IProgress not found. Please update jupyter and ipywidgets. See https://ipywidgets.readthedocs.io/en/stable/user_install.html\n",
      "  from .autonotebook import tqdm as notebook_tqdm\n"
     ]
    }
   ],
   "source": [
    "import numpy as np\n",
    "import pandas as pd\n",
    "\n",
    "from tqdm.auto import tqdm\n",
    "from collections import defaultdict\n",
    "from sklearn.decomposition import TruncatedSVD, NMF, SparsePCA\n",
    "from sklearn.metrics.pairwise import cosine_similarity"
   ]
  },
  {
   "cell_type": "code",
   "execution_count": 2,
   "id": "fa896f85",
   "metadata": {},
   "outputs": [],
   "source": [
    "def recall5(answer_df, submission_df):\n",
    "    \"\"\"\n",
    "    Calculate recall@5 for given dataframes.\n",
    "    \n",
    "    Parameters:\n",
    "    - answer_df: DataFrame containing the ground truth\n",
    "    - submission_df: DataFrame containing the predictions\n",
    "    \n",
    "    Returns:\n",
    "    - recall: Recall@5 value\n",
    "    \"\"\"\n",
    "    \n",
    "    primary_col = answer_df.columns[0]\n",
    "    secondary_col = answer_df.columns[1]\n",
    "    \n",
    "    # Check if each primary_col entry has exactly 5 secondary_col predictions\n",
    "    prediction_counts = submission_df.groupby(primary_col).size()\n",
    "    if not all(prediction_counts == 5):\n",
    "        raise ValueError(f\"Each {primary_col} should have exactly 5 {secondary_col} predictions.\")\n",
    "\n",
    "\n",
    "    # Check for NULL values in the predicted secondary_col\n",
    "    if submission_df[secondary_col].isnull().any():\n",
    "        raise ValueError(f\"Predicted {secondary_col} contains NULL values.\")\n",
    "    \n",
    "    # Check for duplicates in the predicted secondary_col for each primary_col\n",
    "    duplicated_preds = submission_df.groupby(primary_col).apply(lambda x: x[secondary_col].duplicated().any())\n",
    "    if duplicated_preds.any():\n",
    "        raise ValueError(f\"Predicted {secondary_col} contains duplicates for some {primary_col}.\")\n",
    "\n",
    "\n",
    "    # Filter the submission dataframe based on the primary_col present in the answer dataframe\n",
    "    submission_df = submission_df[submission_df[primary_col].isin(answer_df[primary_col])]\n",
    "    \n",
    "    # For each primary_col, get the top 5 predicted secondary_col values\n",
    "    top_5_preds = submission_df.groupby(primary_col).apply(lambda x: x[secondary_col].head(5).tolist()).to_dict()\n",
    "    \n",
    "    # Convert the answer_df to a dictionary for easier lookup\n",
    "    true_dict = answer_df.groupby(primary_col).apply(lambda x: x[secondary_col].tolist()).to_dict()\n",
    "    \n",
    "    \n",
    "    individual_recalls = []\n",
    "    for key, val in true_dict.items():\n",
    "        if key in top_5_preds:\n",
    "            correct_matches = len(set(true_dict[key]) & set(top_5_preds[key]))\n",
    "            individual_recall = correct_matches / min(len(val), 5) # 공정한 평가를 가능하게 위하여 분모(k)를 'min(len(val), 5)' 로 설정함 \n",
    "            individual_recalls.append(individual_recall)\n",
    "\n",
    "\n",
    "    recall = np.mean(individual_recalls)\n",
    "    return recall"
   ]
  },
  {
   "cell_type": "code",
   "execution_count": 3,
   "id": "93a162cb-5d78-45ed-8972-c83b816b4620",
   "metadata": {},
   "outputs": [],
   "source": [
    "apply_train = pd.read_csv('./apply_train.csv')"
   ]
  },
  {
   "cell_type": "code",
   "execution_count": 4,
   "id": "4883b28b",
   "metadata": {},
   "outputs": [],
   "source": [
    "from scipy.stats import pearsonr\n",
    "\n",
    "def pearson_correlation(matrix):\n",
    "    # NaN 값을 0으로 채우기\n",
    "    filled_matrix = np.nan_to_num(matrix)\n",
    "\n",
    "    # 피어슨 상관계수 계산\n",
    "    correlation = np.corrcoef(filled_matrix)\n",
    "    return correlation\n"
   ]
  },
  {
   "cell_type": "code",
   "execution_count": 5,
   "id": "f3772af7-ca3f-4acb-8c0c-b30ee24199a7",
   "metadata": {},
   "outputs": [],
   "source": [
    "#학습, 검증 분리\n",
    "train, val = [], []\n",
    "apply_train_groupby = apply_train.groupby('resume_seq')['recruitment_seq'].apply(list)\n",
    "for uid, iids in zip(apply_train_groupby.index.tolist(), apply_train_groupby.values.tolist()):\n",
    "    for iid in iids[:-1]:\n",
    "        train.append([uid,iid])\n",
    "    val.append([uid, iids[-1]])"
   ]
  },
  {
   "cell_type": "code",
   "execution_count": 6,
   "id": "d2c86a16-f200-4056-8f01-77dcf51e4bf4",
   "metadata": {},
   "outputs": [],
   "source": [
    "train = pd.DataFrame(train, columns=['resume_seq', 'recruitment_seq'])\n",
    "val = pd.DataFrame(val, columns=['resume_seq', 'recruitment_seq'])\n",
    "pred = apply_train.copy()"
   ]
  },
  {
   "cell_type": "code",
   "execution_count": 7,
   "id": "69e97867-c089-4d24-b71e-9bd448b9d1ee",
   "metadata": {},
   "outputs": [],
   "source": [
    "train_user_item_matrix = train.groupby(['resume_seq', 'recruitment_seq']).size().unstack(fill_value=0)\n",
    "pred_user_item_matrix = pred.groupby(['resume_seq', 'recruitment_seq']).size().unstack(fill_value=0)"
   ]
  },
  {
   "cell_type": "code",
   "execution_count": 8,
   "id": "98edbeea-afdc-4880-9a67-62735ba2d78a",
   "metadata": {},
   "outputs": [],
   "source": [
    "train_user_similarity = pearson_correlation(train_user_item_matrix)\n",
    "train_item_similarity = pearson_correlation(train_user_item_matrix.T)\n",
    "\n",
    "pred_user_similarity = pearson_correlation(pred_user_item_matrix)\n",
    "pred_item_similarity = pearson_correlation(pred_user_item_matrix.T)"
   ]
  },
  {
   "cell_type": "code",
   "execution_count": 9,
   "id": "d253cf1e-7066-4ac2-b5df-5537750c679a",
   "metadata": {},
   "outputs": [],
   "source": [
    "train_user_predicted_scores = train_user_similarity.dot(train_user_item_matrix)\n",
    "train_item_predicted_scores = train_user_item_matrix.dot(train_item_similarity)\n",
    "\n",
    "pred_user_predicted_scores = pred_user_similarity.dot(pred_user_item_matrix)\n",
    "pred_item_predicted_scores = pred_user_item_matrix.dot(pred_item_similarity)"
   ]
  },
  {
   "cell_type": "code",
   "execution_count": 10,
   "id": "9a58d4b6-c99e-4a48-8c92-36411788ebb1",
   "metadata": {},
   "outputs": [],
   "source": [
    "# alpha = 0.98\n",
    "# train_recommendations = []\n",
    "# for idx, user in tqdm(enumerate(train_user_item_matrix.index)):\n",
    "#     applied_jobs = set(train_user_item_matrix.loc[user][train_user_item_matrix.loc[user] == 1].index)\n",
    "    \n",
    "#     # 해당 사용자의 추천 점수 (높은 점수부터 정렬)\n",
    "#     sorted_job_indices = (train_item_predicted_scores.loc[user].values * alpha + train_user_predicted_scores[idx]).argsort()[::-1]\n",
    "#     recommended_jobs = [job for job in train_user_item_matrix.columns[sorted_job_indices] if job not in applied_jobs][:5]\n",
    "    \n",
    "#     for job in recommended_jobs:\n",
    "#         train_recommendations.append([user, job])"
   ]
  },
  {
   "cell_type": "code",
   "execution_count": 11,
   "id": "3b837788",
   "metadata": {},
   "outputs": [
    {
     "name": "stderr",
     "output_type": "stream",
     "text": [
      "8482it [00:14, 583.43it/s]\n"
     ]
    },
    {
     "name": "stdout",
     "output_type": "stream",
     "text": [
      "Alpha: 0.01, Recall@5: 0.1254421127092667\n"
     ]
    },
    {
     "name": "stderr",
     "output_type": "stream",
     "text": [
      "8482it [00:14, 585.27it/s]\n"
     ]
    },
    {
     "name": "stdout",
     "output_type": "stream",
     "text": [
      "Alpha: 0.02, Recall@5: 0.1256779061542089\n"
     ]
    },
    {
     "name": "stderr",
     "output_type": "stream",
     "text": [
      "8482it [00:14, 600.44it/s]\n"
     ]
    },
    {
     "name": "stdout",
     "output_type": "stream",
     "text": [
      "Alpha: 0.03, Recall@5: 0.12520631926432446\n"
     ]
    },
    {
     "name": "stderr",
     "output_type": "stream",
     "text": [
      "8482it [00:14, 577.71it/s]\n"
     ]
    },
    {
     "name": "stdout",
     "output_type": "stream",
     "text": [
      "Alpha: 0.04, Recall@5: 0.12497052581938223\n"
     ]
    },
    {
     "name": "stderr",
     "output_type": "stream",
     "text": [
      "8482it [00:14, 598.94it/s]\n"
     ]
    },
    {
     "name": "stdout",
     "output_type": "stream",
     "text": [
      "Alpha: 0.05, Recall@5: 0.12497052581938223\n"
     ]
    },
    {
     "name": "stderr",
     "output_type": "stream",
     "text": [
      "8482it [00:13, 612.27it/s]\n"
     ]
    },
    {
     "name": "stdout",
     "output_type": "stream",
     "text": [
      "Alpha: 0.060000000000000005, Recall@5: 0.12508842254185334\n"
     ]
    },
    {
     "name": "stderr",
     "output_type": "stream",
     "text": [
      "8482it [00:14, 600.87it/s]\n"
     ]
    },
    {
     "name": "stdout",
     "output_type": "stream",
     "text": [
      "Alpha: 0.06999999999999999, Recall@5: 0.12508842254185334\n"
     ]
    },
    {
     "name": "stderr",
     "output_type": "stream",
     "text": [
      "8482it [00:14, 600.23it/s]\n"
     ]
    },
    {
     "name": "stdout",
     "output_type": "stream",
     "text": [
      "Alpha: 0.08, Recall@5: 0.1256779061542089\n"
     ]
    },
    {
     "name": "stderr",
     "output_type": "stream",
     "text": [
      "8482it [00:15, 553.73it/s]\n"
     ]
    },
    {
     "name": "stdout",
     "output_type": "stream",
     "text": [
      "Alpha: 0.09, Recall@5: 0.12579580287668002\n"
     ]
    },
    {
     "name": "stderr",
     "output_type": "stream",
     "text": [
      "8482it [00:14, 589.93it/s]\n"
     ]
    },
    {
     "name": "stdout",
     "output_type": "stream",
     "text": [
      "Alpha: 0.09999999999999999, Recall@5: 0.12591369959915114\n"
     ]
    },
    {
     "name": "stderr",
     "output_type": "stream",
     "text": [
      "8482it [00:14, 601.98it/s]\n"
     ]
    },
    {
     "name": "stdout",
     "output_type": "stream",
     "text": [
      "Alpha: 0.11, Recall@5: 0.12591369959915114\n"
     ]
    },
    {
     "name": "stderr",
     "output_type": "stream",
     "text": [
      "8482it [00:14, 600.85it/s]\n"
     ]
    },
    {
     "name": "stdout",
     "output_type": "stream",
     "text": [
      "Alpha: 0.12, Recall@5: 0.12591369959915114\n"
     ]
    },
    {
     "name": "stderr",
     "output_type": "stream",
     "text": [
      "8482it [00:14, 581.62it/s]\n"
     ]
    },
    {
     "name": "stdout",
     "output_type": "stream",
     "text": [
      "Alpha: 0.13, Recall@5: 0.12591369959915114\n"
     ]
    },
    {
     "name": "stderr",
     "output_type": "stream",
     "text": [
      "8482it [00:14, 587.89it/s]\n"
     ]
    },
    {
     "name": "stdout",
     "output_type": "stream",
     "text": [
      "Alpha: 0.14, Recall@5: 0.1262673897665645\n"
     ]
    },
    {
     "name": "stderr",
     "output_type": "stream",
     "text": [
      "8482it [00:13, 607.03it/s]\n"
     ]
    },
    {
     "name": "stdout",
     "output_type": "stream",
     "text": [
      "Alpha: 0.15000000000000002, Recall@5: 0.12673897665644895\n"
     ]
    },
    {
     "name": "stderr",
     "output_type": "stream",
     "text": [
      "8482it [00:14, 594.37it/s]\n"
     ]
    },
    {
     "name": "stdout",
     "output_type": "stream",
     "text": [
      "Alpha: 0.16, Recall@5: 0.12685687337892007\n"
     ]
    },
    {
     "name": "stderr",
     "output_type": "stream",
     "text": [
      "8482it [00:14, 568.84it/s]\n"
     ]
    },
    {
     "name": "stdout",
     "output_type": "stream",
     "text": [
      "Alpha: 0.17, Recall@5: 0.1270926668238623\n"
     ]
    },
    {
     "name": "stderr",
     "output_type": "stream",
     "text": [
      "8482it [00:14, 570.41it/s]\n"
     ]
    },
    {
     "name": "stdout",
     "output_type": "stream",
     "text": [
      "Alpha: 0.18000000000000002, Recall@5: 0.12768215043621786\n"
     ]
    },
    {
     "name": "stderr",
     "output_type": "stream",
     "text": [
      "8482it [00:14, 573.94it/s]\n"
     ]
    },
    {
     "name": "stdout",
     "output_type": "stream",
     "text": [
      "Alpha: 0.19, Recall@5: 0.12756425371374674\n"
     ]
    },
    {
     "name": "stderr",
     "output_type": "stream",
     "text": [
      "8482it [00:14, 598.63it/s]\n"
     ]
    },
    {
     "name": "stdout",
     "output_type": "stream",
     "text": [
      "Alpha: 0.2, Recall@5: 0.12756425371374674\n"
     ]
    },
    {
     "name": "stderr",
     "output_type": "stream",
     "text": [
      "8482it [00:14, 581.43it/s]\n"
     ]
    },
    {
     "name": "stdout",
     "output_type": "stream",
     "text": [
      "Alpha: 0.21000000000000002, Recall@5: 0.12756425371374674\n"
     ]
    },
    {
     "name": "stderr",
     "output_type": "stream",
     "text": [
      "8482it [00:14, 581.39it/s]\n"
     ]
    },
    {
     "name": "stdout",
     "output_type": "stream",
     "text": [
      "Alpha: 0.22, Recall@5: 0.12756425371374674\n"
     ]
    },
    {
     "name": "stderr",
     "output_type": "stream",
     "text": [
      "8482it [00:14, 585.04it/s]\n"
     ]
    },
    {
     "name": "stdout",
     "output_type": "stream",
     "text": [
      "Alpha: 0.23, Recall@5: 0.12756425371374674\n"
     ]
    },
    {
     "name": "stderr",
     "output_type": "stream",
     "text": [
      "8482it [00:14, 575.38it/s]\n"
     ]
    },
    {
     "name": "stdout",
     "output_type": "stream",
     "text": [
      "Alpha: 0.24000000000000002, Recall@5: 0.12744635699127566\n"
     ]
    },
    {
     "name": "stderr",
     "output_type": "stream",
     "text": [
      "8482it [00:15, 564.69it/s]\n"
     ]
    },
    {
     "name": "stdout",
     "output_type": "stream",
     "text": [
      "Alpha: 0.25, Recall@5: 0.12780004715868898\n"
     ]
    },
    {
     "name": "stderr",
     "output_type": "stream",
     "text": [
      "8482it [00:14, 587.79it/s]\n"
     ]
    },
    {
     "name": "stdout",
     "output_type": "stream",
     "text": [
      "Alpha: 0.26, Recall@5: 0.1279179438811601\n"
     ]
    },
    {
     "name": "stderr",
     "output_type": "stream",
     "text": [
      "8482it [00:14, 593.96it/s]\n"
     ]
    },
    {
     "name": "stdout",
     "output_type": "stream",
     "text": [
      "Alpha: 0.27, Recall@5: 0.12827163404857345\n"
     ]
    },
    {
     "name": "stderr",
     "output_type": "stream",
     "text": [
      "8482it [00:13, 607.42it/s]\n"
     ]
    },
    {
     "name": "stdout",
     "output_type": "stream",
     "text": [
      "Alpha: 0.28, Recall@5: 0.12815373732610233\n"
     ]
    },
    {
     "name": "stderr",
     "output_type": "stream",
     "text": [
      "8482it [00:14, 595.59it/s]\n"
     ]
    },
    {
     "name": "stdout",
     "output_type": "stream",
     "text": [
      "Alpha: 0.29000000000000004, Recall@5: 0.12815373732610233\n"
     ]
    },
    {
     "name": "stderr",
     "output_type": "stream",
     "text": [
      "8482it [00:14, 593.63it/s]\n"
     ]
    },
    {
     "name": "stdout",
     "output_type": "stream",
     "text": [
      "Alpha: 0.3, Recall@5: 0.1280358406036312\n"
     ]
    },
    {
     "name": "stderr",
     "output_type": "stream",
     "text": [
      "8482it [00:14, 592.94it/s]\n"
     ]
    },
    {
     "name": "stdout",
     "output_type": "stream",
     "text": [
      "Alpha: 0.31, Recall@5: 0.12815373732610233\n"
     ]
    },
    {
     "name": "stderr",
     "output_type": "stream",
     "text": [
      "8482it [00:14, 597.01it/s]\n"
     ]
    },
    {
     "name": "stdout",
     "output_type": "stream",
     "text": [
      "Alpha: 0.32, Recall@5: 0.1279179438811601\n"
     ]
    },
    {
     "name": "stderr",
     "output_type": "stream",
     "text": [
      "8482it [00:14, 590.71it/s]\n"
     ]
    },
    {
     "name": "stdout",
     "output_type": "stream",
     "text": [
      "Alpha: 0.33, Recall@5: 0.1279179438811601\n"
     ]
    },
    {
     "name": "stderr",
     "output_type": "stream",
     "text": [
      "8482it [00:14, 592.12it/s]\n"
     ]
    },
    {
     "name": "stdout",
     "output_type": "stream",
     "text": [
      "Alpha: 0.34, Recall@5: 0.12732846026880454\n"
     ]
    },
    {
     "name": "stderr",
     "output_type": "stream",
     "text": [
      "8482it [00:14, 574.37it/s]\n"
     ]
    },
    {
     "name": "stdout",
     "output_type": "stream",
     "text": [
      "Alpha: 0.35000000000000003, Recall@5: 0.1269747701013912\n"
     ]
    },
    {
     "name": "stderr",
     "output_type": "stream",
     "text": [
      "8482it [00:14, 571.74it/s]\n"
     ]
    },
    {
     "name": "stdout",
     "output_type": "stream",
     "text": [
      "Alpha: 0.36000000000000004, Recall@5: 0.12732846026880454\n"
     ]
    },
    {
     "name": "stderr",
     "output_type": "stream",
     "text": [
      "8482it [00:14, 586.17it/s]\n"
     ]
    },
    {
     "name": "stdout",
     "output_type": "stream",
     "text": [
      "Alpha: 0.37, Recall@5: 0.12744635699127566\n"
     ]
    },
    {
     "name": "stderr",
     "output_type": "stream",
     "text": [
      "8482it [00:14, 571.02it/s]\n"
     ]
    },
    {
     "name": "stdout",
     "output_type": "stream",
     "text": [
      "Alpha: 0.38, Recall@5: 0.12756425371374674\n"
     ]
    },
    {
     "name": "stderr",
     "output_type": "stream",
     "text": [
      "8482it [00:14, 583.28it/s]\n"
     ]
    },
    {
     "name": "stdout",
     "output_type": "stream",
     "text": [
      "Alpha: 0.39, Recall@5: 0.12732846026880454\n"
     ]
    },
    {
     "name": "stderr",
     "output_type": "stream",
     "text": [
      "8482it [00:14, 584.60it/s]\n"
     ]
    },
    {
     "name": "stdout",
     "output_type": "stream",
     "text": [
      "Alpha: 0.4, Recall@5: 0.12756425371374674\n"
     ]
    },
    {
     "name": "stderr",
     "output_type": "stream",
     "text": [
      "8482it [00:15, 565.13it/s]\n"
     ]
    },
    {
     "name": "stdout",
     "output_type": "stream",
     "text": [
      "Alpha: 0.41000000000000003, Recall@5: 0.12756425371374674\n"
     ]
    },
    {
     "name": "stderr",
     "output_type": "stream",
     "text": [
      "8482it [00:14, 580.33it/s]\n"
     ]
    },
    {
     "name": "stdout",
     "output_type": "stream",
     "text": [
      "Alpha: 0.42000000000000004, Recall@5: 0.12768215043621786\n"
     ]
    },
    {
     "name": "stderr",
     "output_type": "stream",
     "text": [
      "8482it [00:14, 572.85it/s]\n"
     ]
    },
    {
     "name": "stdout",
     "output_type": "stream",
     "text": [
      "Alpha: 0.43, Recall@5: 0.12768215043621786\n"
     ]
    },
    {
     "name": "stderr",
     "output_type": "stream",
     "text": [
      "8482it [00:14, 577.50it/s]\n"
     ]
    },
    {
     "name": "stdout",
     "output_type": "stream",
     "text": [
      "Alpha: 0.44, Recall@5: 0.1279179438811601\n"
     ]
    },
    {
     "name": "stderr",
     "output_type": "stream",
     "text": [
      "8482it [00:14, 590.64it/s]\n"
     ]
    },
    {
     "name": "stdout",
     "output_type": "stream",
     "text": [
      "Alpha: 0.45, Recall@5: 0.12780004715868898\n"
     ]
    },
    {
     "name": "stderr",
     "output_type": "stream",
     "text": [
      "8482it [00:14, 599.56it/s]\n"
     ]
    },
    {
     "name": "stdout",
     "output_type": "stream",
     "text": [
      "Alpha: 0.46, Recall@5: 0.1280358406036312\n"
     ]
    },
    {
     "name": "stderr",
     "output_type": "stream",
     "text": [
      "8482it [00:14, 599.31it/s]\n"
     ]
    },
    {
     "name": "stdout",
     "output_type": "stream",
     "text": [
      "Alpha: 0.47000000000000003, Recall@5: 0.1280358406036312\n"
     ]
    },
    {
     "name": "stderr",
     "output_type": "stream",
     "text": [
      "8482it [00:14, 582.87it/s]\n"
     ]
    },
    {
     "name": "stdout",
     "output_type": "stream",
     "text": [
      "Alpha: 0.48000000000000004, Recall@5: 0.12827163404857345\n"
     ]
    },
    {
     "name": "stderr",
     "output_type": "stream",
     "text": [
      "8482it [00:14, 587.30it/s]\n"
     ]
    },
    {
     "name": "stdout",
     "output_type": "stream",
     "text": [
      "Alpha: 0.49, Recall@5: 0.12815373732610233\n"
     ]
    },
    {
     "name": "stderr",
     "output_type": "stream",
     "text": [
      "8482it [00:14, 588.57it/s]\n"
     ]
    },
    {
     "name": "stdout",
     "output_type": "stream",
     "text": [
      "Alpha: 0.5, Recall@5: 0.12838953077104456\n"
     ]
    },
    {
     "name": "stderr",
     "output_type": "stream",
     "text": [
      "8482it [00:14, 596.10it/s]\n"
     ]
    },
    {
     "name": "stdout",
     "output_type": "stream",
     "text": [
      "Alpha: 0.51, Recall@5: 0.12827163404857345\n"
     ]
    },
    {
     "name": "stderr",
     "output_type": "stream",
     "text": [
      "8482it [00:14, 600.68it/s]\n"
     ]
    },
    {
     "name": "stdout",
     "output_type": "stream",
     "text": [
      "Alpha: 0.52, Recall@5: 0.12838953077104456\n"
     ]
    },
    {
     "name": "stderr",
     "output_type": "stream",
     "text": [
      "8482it [00:14, 592.92it/s]\n"
     ]
    },
    {
     "name": "stdout",
     "output_type": "stream",
     "text": [
      "Alpha: 0.53, Recall@5: 0.12850742749351568\n"
     ]
    },
    {
     "name": "stderr",
     "output_type": "stream",
     "text": [
      "8482it [00:14, 596.58it/s]\n"
     ]
    },
    {
     "name": "stdout",
     "output_type": "stream",
     "text": [
      "Alpha: 0.54, Recall@5: 0.12874322093845791\n"
     ]
    },
    {
     "name": "stderr",
     "output_type": "stream",
     "text": [
      "8482it [00:13, 605.99it/s]\n"
     ]
    },
    {
     "name": "stdout",
     "output_type": "stream",
     "text": [
      "Alpha: 0.55, Recall@5: 0.12909691110587126\n"
     ]
    },
    {
     "name": "stderr",
     "output_type": "stream",
     "text": [
      "8482it [00:14, 596.24it/s]\n"
     ]
    },
    {
     "name": "stdout",
     "output_type": "stream",
     "text": [
      "Alpha: 0.56, Recall@5: 0.12909691110587126\n"
     ]
    },
    {
     "name": "stderr",
     "output_type": "stream",
     "text": [
      "8482it [00:14, 595.53it/s]\n"
     ]
    },
    {
     "name": "stdout",
     "output_type": "stream",
     "text": [
      "Alpha: 0.5700000000000001, Recall@5: 0.12909691110587126\n"
     ]
    },
    {
     "name": "stderr",
     "output_type": "stream",
     "text": [
      "8482it [00:14, 601.33it/s]\n"
     ]
    },
    {
     "name": "stdout",
     "output_type": "stream",
     "text": [
      "Alpha: 0.5800000000000001, Recall@5: 0.12897901438340015\n"
     ]
    },
    {
     "name": "stderr",
     "output_type": "stream",
     "text": [
      "8482it [00:14, 578.97it/s]\n"
     ]
    },
    {
     "name": "stdout",
     "output_type": "stream",
     "text": [
      "Alpha: 0.59, Recall@5: 0.12874322093845791\n"
     ]
    },
    {
     "name": "stderr",
     "output_type": "stream",
     "text": [
      "8482it [00:14, 595.73it/s]\n"
     ]
    },
    {
     "name": "stdout",
     "output_type": "stream",
     "text": [
      "Alpha: 0.6, Recall@5: 0.1286253242159868\n"
     ]
    },
    {
     "name": "stderr",
     "output_type": "stream",
     "text": [
      "8482it [00:14, 598.26it/s]\n"
     ]
    },
    {
     "name": "stdout",
     "output_type": "stream",
     "text": [
      "Alpha: 0.61, Recall@5: 0.12874322093845791\n"
     ]
    },
    {
     "name": "stderr",
     "output_type": "stream",
     "text": [
      "8482it [00:14, 591.36it/s]\n"
     ]
    },
    {
     "name": "stdout",
     "output_type": "stream",
     "text": [
      "Alpha: 0.62, Recall@5: 0.1293327045508135\n"
     ]
    },
    {
     "name": "stderr",
     "output_type": "stream",
     "text": [
      "8482it [00:14, 597.97it/s]\n"
     ]
    },
    {
     "name": "stdout",
     "output_type": "stream",
     "text": [
      "Alpha: 0.63, Recall@5: 0.12909691110587126\n"
     ]
    },
    {
     "name": "stderr",
     "output_type": "stream",
     "text": [
      "8482it [00:14, 595.13it/s]\n"
     ]
    },
    {
     "name": "stdout",
     "output_type": "stream",
     "text": [
      "Alpha: 0.64, Recall@5: 0.12909691110587126\n"
     ]
    },
    {
     "name": "stderr",
     "output_type": "stream",
     "text": [
      "8482it [00:14, 585.40it/s]\n"
     ]
    },
    {
     "name": "stdout",
     "output_type": "stream",
     "text": [
      "Alpha: 0.65, Recall@5: 0.1286253242159868\n"
     ]
    },
    {
     "name": "stderr",
     "output_type": "stream",
     "text": [
      "8482it [00:14, 572.35it/s]\n"
     ]
    },
    {
     "name": "stdout",
     "output_type": "stream",
     "text": [
      "Alpha: 0.66, Recall@5: 0.12827163404857345\n"
     ]
    },
    {
     "name": "stderr",
     "output_type": "stream",
     "text": [
      "8482it [00:14, 589.29it/s]\n"
     ]
    },
    {
     "name": "stdout",
     "output_type": "stream",
     "text": [
      "Alpha: 0.67, Recall@5: 0.1286253242159868\n"
     ]
    },
    {
     "name": "stderr",
     "output_type": "stream",
     "text": [
      "8482it [00:14, 577.58it/s]\n"
     ]
    },
    {
     "name": "stdout",
     "output_type": "stream",
     "text": [
      "Alpha: 0.68, Recall@5: 0.1286253242159868\n"
     ]
    },
    {
     "name": "stderr",
     "output_type": "stream",
     "text": [
      "8482it [00:14, 582.36it/s]\n"
     ]
    },
    {
     "name": "stdout",
     "output_type": "stream",
     "text": [
      "Alpha: 0.6900000000000001, Recall@5: 0.12827163404857345\n"
     ]
    },
    {
     "name": "stderr",
     "output_type": "stream",
     "text": [
      "8482it [00:14, 597.36it/s]\n"
     ]
    },
    {
     "name": "stdout",
     "output_type": "stream",
     "text": [
      "Alpha: 0.7000000000000001, Recall@5: 0.1279179438811601\n"
     ]
    },
    {
     "name": "stderr",
     "output_type": "stream",
     "text": [
      "8482it [00:14, 597.45it/s]\n"
     ]
    },
    {
     "name": "stdout",
     "output_type": "stream",
     "text": [
      "Alpha: 0.7100000000000001, Recall@5: 0.12780004715868898\n"
     ]
    },
    {
     "name": "stderr",
     "output_type": "stream",
     "text": [
      "8482it [00:14, 603.56it/s]\n"
     ]
    },
    {
     "name": "stdout",
     "output_type": "stream",
     "text": [
      "Alpha: 0.72, Recall@5: 0.1279179438811601\n"
     ]
    },
    {
     "name": "stderr",
     "output_type": "stream",
     "text": [
      "8482it [00:14, 592.42it/s]\n"
     ]
    },
    {
     "name": "stdout",
     "output_type": "stream",
     "text": [
      "Alpha: 0.73, Recall@5: 0.12780004715868898\n"
     ]
    },
    {
     "name": "stderr",
     "output_type": "stream",
     "text": [
      "8482it [00:14, 588.72it/s]\n"
     ]
    },
    {
     "name": "stdout",
     "output_type": "stream",
     "text": [
      "Alpha: 0.74, Recall@5: 0.12815373732610233\n"
     ]
    },
    {
     "name": "stderr",
     "output_type": "stream",
     "text": [
      "8482it [00:14, 583.05it/s]\n"
     ]
    },
    {
     "name": "stdout",
     "output_type": "stream",
     "text": [
      "Alpha: 0.75, Recall@5: 0.12850742749351568\n"
     ]
    },
    {
     "name": "stderr",
     "output_type": "stream",
     "text": [
      "8482it [00:14, 588.08it/s]\n"
     ]
    },
    {
     "name": "stdout",
     "output_type": "stream",
     "text": [
      "Alpha: 0.76, Recall@5: 0.1280358406036312\n"
     ]
    },
    {
     "name": "stderr",
     "output_type": "stream",
     "text": [
      "8482it [00:14, 595.81it/s]\n"
     ]
    },
    {
     "name": "stdout",
     "output_type": "stream",
     "text": [
      "Alpha: 0.77, Recall@5: 0.1279179438811601\n"
     ]
    },
    {
     "name": "stderr",
     "output_type": "stream",
     "text": [
      "8482it [00:14, 590.79it/s]\n"
     ]
    },
    {
     "name": "stdout",
     "output_type": "stream",
     "text": [
      "Alpha: 0.78, Recall@5: 0.12768215043621786\n"
     ]
    },
    {
     "name": "stderr",
     "output_type": "stream",
     "text": [
      "8482it [00:14, 574.83it/s]\n"
     ]
    },
    {
     "name": "stdout",
     "output_type": "stream",
     "text": [
      "Alpha: 0.79, Recall@5: 0.12768215043621786\n"
     ]
    },
    {
     "name": "stderr",
     "output_type": "stream",
     "text": [
      "8482it [00:14, 588.46it/s]\n"
     ]
    },
    {
     "name": "stdout",
     "output_type": "stream",
     "text": [
      "Alpha: 0.8, Recall@5: 0.12780004715868898\n"
     ]
    },
    {
     "name": "stderr",
     "output_type": "stream",
     "text": [
      "8482it [00:14, 586.03it/s]\n"
     ]
    },
    {
     "name": "stdout",
     "output_type": "stream",
     "text": [
      "Alpha: 0.81, Recall@5: 0.12768215043621786\n"
     ]
    },
    {
     "name": "stderr",
     "output_type": "stream",
     "text": [
      "8482it [00:14, 589.58it/s]\n"
     ]
    },
    {
     "name": "stdout",
     "output_type": "stream",
     "text": [
      "Alpha: 0.8200000000000001, Recall@5: 0.1280358406036312\n"
     ]
    },
    {
     "name": "stderr",
     "output_type": "stream",
     "text": [
      "8482it [00:14, 588.07it/s]\n"
     ]
    },
    {
     "name": "stdout",
     "output_type": "stream",
     "text": [
      "Alpha: 0.8300000000000001, Recall@5: 0.12768215043621786\n"
     ]
    },
    {
     "name": "stderr",
     "output_type": "stream",
     "text": [
      "8482it [00:14, 584.80it/s]\n"
     ]
    },
    {
     "name": "stdout",
     "output_type": "stream",
     "text": [
      "Alpha: 0.8400000000000001, Recall@5: 0.12768215043621786\n"
     ]
    },
    {
     "name": "stderr",
     "output_type": "stream",
     "text": [
      "8482it [00:14, 589.52it/s]\n"
     ]
    },
    {
     "name": "stdout",
     "output_type": "stream",
     "text": [
      "Alpha: 0.85, Recall@5: 0.12780004715868898\n"
     ]
    },
    {
     "name": "stderr",
     "output_type": "stream",
     "text": [
      "8482it [00:14, 604.50it/s]\n"
     ]
    },
    {
     "name": "stdout",
     "output_type": "stream",
     "text": [
      "Alpha: 0.86, Recall@5: 0.12768215043621786\n"
     ]
    },
    {
     "name": "stderr",
     "output_type": "stream",
     "text": [
      "8482it [00:14, 596.09it/s]\n"
     ]
    },
    {
     "name": "stdout",
     "output_type": "stream",
     "text": [
      "Alpha: 0.87, Recall@5: 0.1279179438811601\n"
     ]
    },
    {
     "name": "stderr",
     "output_type": "stream",
     "text": [
      "8482it [00:14, 579.50it/s]\n"
     ]
    },
    {
     "name": "stdout",
     "output_type": "stream",
     "text": [
      "Alpha: 0.88, Recall@5: 0.12827163404857345\n"
     ]
    },
    {
     "name": "stderr",
     "output_type": "stream",
     "text": [
      "8482it [00:14, 579.88it/s]\n"
     ]
    },
    {
     "name": "stdout",
     "output_type": "stream",
     "text": [
      "Alpha: 0.89, Recall@5: 0.12838953077104456\n"
     ]
    },
    {
     "name": "stderr",
     "output_type": "stream",
     "text": [
      "8482it [00:13, 627.18it/s]\n"
     ]
    },
    {
     "name": "stdout",
     "output_type": "stream",
     "text": [
      "Alpha: 0.9, Recall@5: 0.12827163404857345\n"
     ]
    },
    {
     "name": "stderr",
     "output_type": "stream",
     "text": [
      "8482it [00:13, 615.79it/s]\n"
     ]
    },
    {
     "name": "stdout",
     "output_type": "stream",
     "text": [
      "Alpha: 0.91, Recall@5: 0.1280358406036312\n"
     ]
    },
    {
     "name": "stderr",
     "output_type": "stream",
     "text": [
      "8482it [00:13, 609.86it/s]\n"
     ]
    },
    {
     "name": "stdout",
     "output_type": "stream",
     "text": [
      "Alpha: 0.92, Recall@5: 0.12838953077104456\n"
     ]
    },
    {
     "name": "stderr",
     "output_type": "stream",
     "text": [
      "8482it [00:14, 605.71it/s]\n"
     ]
    },
    {
     "name": "stdout",
     "output_type": "stream",
     "text": [
      "Alpha: 0.93, Recall@5: 0.12838953077104456\n"
     ]
    },
    {
     "name": "stderr",
     "output_type": "stream",
     "text": [
      "8482it [00:13, 619.93it/s]\n"
     ]
    },
    {
     "name": "stdout",
     "output_type": "stream",
     "text": [
      "Alpha: 0.9400000000000001, Recall@5: 0.12827163404857345\n"
     ]
    },
    {
     "name": "stderr",
     "output_type": "stream",
     "text": [
      "8482it [00:13, 610.79it/s]\n"
     ]
    },
    {
     "name": "stdout",
     "output_type": "stream",
     "text": [
      "Alpha: 0.9500000000000001, Recall@5: 0.12827163404857345\n"
     ]
    },
    {
     "name": "stderr",
     "output_type": "stream",
     "text": [
      "8482it [00:14, 602.05it/s]\n"
     ]
    },
    {
     "name": "stdout",
     "output_type": "stream",
     "text": [
      "Alpha: 0.9600000000000001, Recall@5: 0.12827163404857345\n"
     ]
    },
    {
     "name": "stderr",
     "output_type": "stream",
     "text": [
      "8482it [00:13, 618.27it/s]\n"
     ]
    },
    {
     "name": "stdout",
     "output_type": "stream",
     "text": [
      "Alpha: 0.97, Recall@5: 0.12815373732610233\n"
     ]
    },
    {
     "name": "stderr",
     "output_type": "stream",
     "text": [
      "8482it [00:13, 615.51it/s]\n"
     ]
    },
    {
     "name": "stdout",
     "output_type": "stream",
     "text": [
      "Alpha: 0.98, Recall@5: 0.1280358406036312\n"
     ]
    },
    {
     "name": "stderr",
     "output_type": "stream",
     "text": [
      "8482it [00:13, 620.07it/s]\n"
     ]
    },
    {
     "name": "stdout",
     "output_type": "stream",
     "text": [
      "Alpha: 0.99, Recall@5: 0.12768215043621786\n",
      "Best Alpha: 0.62, Best Recall@5: 0.1293327045508135\n"
     ]
    }
   ],
   "source": [
    "import numpy as np\n",
    "\n",
    "alpha_values = np.arange(0.01, 1.0, 0.01) \n",
    "\n",
    "best_alpha = None\n",
    "best_recall = 0\n",
    "\n",
    "for alpha in alpha_values:\n",
    "    train_recommendations = []\n",
    "    for idx, user in tqdm(enumerate(train_user_item_matrix.index)):\n",
    "        applied_jobs = set(train_user_item_matrix.loc[user][train_user_item_matrix.loc[user] == 1].index)\n",
    "        \n",
    "        # 해당 사용자의 추천 점수 (높은 점수부터 정렬)\n",
    "        sorted_job_indices = (train_item_predicted_scores.loc[user].values * alpha + train_user_predicted_scores[idx]).argsort()[::-1]\n",
    "        recommended_jobs = [job for job in train_user_item_matrix.columns[sorted_job_indices] if job not in applied_jobs][:5]\n",
    "        \n",
    "        for job in recommended_jobs:\n",
    "            train_recommendations.append([user, job])\n",
    "    \n",
    "    val_prediction = pd.DataFrame(train_recommendations, columns=['resume_seq', 'recruitment_seq'])\n",
    "    recall = recall5(val, val_prediction)\n",
    "    \n",
    "    print(f\"Alpha: {alpha}, Recall@5: {recall}\")\n",
    "\n",
    "    if recall > best_recall:\n",
    "        best_recall = recall\n",
    "        best_alpha = alpha\n",
    "\n",
    "print(f\"Best Alpha: {best_alpha}, Best Recall@5: {best_recall}\")\n"
   ]
  },
  {
   "cell_type": "code",
   "execution_count": 12,
   "id": "bd0bee78-4e44-46bf-b777-bb7469227e75",
   "metadata": {},
   "outputs": [],
   "source": [
    "val_prediction = pd.DataFrame(train_recommendations, columns=['resume_seq', 'recruitment_seq'])"
   ]
  },
  {
   "cell_type": "code",
   "execution_count": 74,
   "id": "a151a71e-c3f9-4d6e-9308-307b8a283a04",
   "metadata": {},
   "outputs": [
    {
     "data": {
      "text/plain": [
       "0.1279179438811601"
      ]
     },
     "execution_count": 74,
     "metadata": {},
     "output_type": "execute_result"
    }
   ],
   "source": [
    "recall5(val,val_prediction)"
   ]
  },
  {
   "cell_type": "code",
   "execution_count": 75,
   "id": "b39b774e-dded-4590-8b1e-e537beedb1ae",
   "metadata": {},
   "outputs": [
    {
     "data": {
      "text/plain": [
       "0.1279179438811601"
      ]
     },
     "execution_count": 75,
     "metadata": {},
     "output_type": "execute_result"
    }
   ],
   "source": [
    "recall5(val,val_prediction)"
   ]
  },
  {
   "cell_type": "code",
   "execution_count": null,
   "id": "8d08a014-f430-4fce-8d79-74f68ff96aed",
   "metadata": {},
   "outputs": [],
   "source": []
  },
  {
   "cell_type": "code",
   "execution_count": 13,
   "id": "683d9837-27cf-4f19-972f-61223929ce69",
   "metadata": {},
   "outputs": [
    {
     "name": "stderr",
     "output_type": "stream",
     "text": [
      "8482it [00:17, 490.88it/s]\n"
     ]
    }
   ],
   "source": [
    "alpha = 0.6200000000000001\n",
    "pred_recommendations = []\n",
    "for idx, user in tqdm(enumerate(pred_user_item_matrix.index)):\n",
    "    applied_jobs = set(pred_user_item_matrix.loc[user][pred_user_item_matrix.loc[user] == 1].index)\n",
    "    \n",
    "    sorted_job_indices = (pred_item_predicted_scores.loc[user].values * alpha + pred_user_predicted_scores[idx]).argsort()[::-1]\n",
    "    recommended_jobs = [job for job in pred_user_item_matrix.columns[sorted_job_indices] if job not in applied_jobs][:5]\n",
    "    \n",
    "    for job in recommended_jobs:\n",
    "        pred_recommendations.append([user, job])"
   ]
  },
  {
   "cell_type": "code",
   "execution_count": 14,
   "id": "19c2464a-3e70-4c0d-8d94-986a9b4cd53f",
   "metadata": {},
   "outputs": [],
   "source": [
    "top_recommendations = pd.DataFrame(pred_recommendations, columns=['resume_seq', 'recruitment_seq'])\n",
    "top_recommendations.to_csv('E:/국민대/open/models/baseline_add_item_6200000000000001.csv', index=False)"
   ]
  },
  {
   "cell_type": "code",
   "execution_count": null,
   "id": "be04d46b-9b8f-43f4-856c-82e386d49992",
   "metadata": {},
   "outputs": [],
   "source": []
  },
  {
   "cell_type": "code",
   "execution_count": null,
   "id": "c5ff34a1-b231-45f4-9a06-40c3c842257f",
   "metadata": {},
   "outputs": [],
   "source": []
  }
 ],
 "metadata": {
  "kernelspec": {
   "display_name": "Python 3 (ipykernel)",
   "language": "python",
   "name": "python3"
  },
  "language_info": {
   "codemirror_mode": {
    "name": "ipython",
    "version": 3
   },
   "file_extension": ".py",
   "mimetype": "text/x-python",
   "name": "python",
   "nbconvert_exporter": "python",
   "pygments_lexer": "ipython3",
   "version": "3.10.11"
  }
 },
 "nbformat": 4,
 "nbformat_minor": 5
}
