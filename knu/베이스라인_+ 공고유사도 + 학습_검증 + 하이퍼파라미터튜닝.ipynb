{
 "cells": [
  {
   "cell_type": "code",
   "execution_count": 1,
   "id": "c9a005fc-4c85-440d-a474-c44c87f1e5dc",
   "metadata": {},
   "outputs": [
    {
     "name": "stderr",
     "output_type": "stream",
     "text": [
      "c:\\Users\\User\\AppData\\Local\\Programs\\Python\\Python310\\lib\\site-packages\\tqdm\\auto.py:21: TqdmWarning: IProgress not found. Please update jupyter and ipywidgets. See https://ipywidgets.readthedocs.io/en/stable/user_install.html\n",
      "  from .autonotebook import tqdm as notebook_tqdm\n"
     ]
    }
   ],
   "source": [
    "import numpy as np\n",
    "import pandas as pd\n",
    "\n",
    "from tqdm.auto import tqdm\n",
    "from collections import defaultdict\n",
    "from sklearn.decomposition import TruncatedSVD, NMF, SparsePCA\n",
    "from sklearn.metrics.pairwise import cosine_similarity"
   ]
  },
  {
   "cell_type": "code",
   "execution_count": 2,
   "id": "fa896f85",
   "metadata": {},
   "outputs": [],
   "source": [
    "def recall5(answer_df, submission_df):\n",
    "    \"\"\"\n",
    "    Calculate recall@5 for given dataframes.\n",
    "    \n",
    "    Parameters:\n",
    "    - answer_df: DataFrame containing the ground truth\n",
    "    - submission_df: DataFrame containing the predictions\n",
    "    \n",
    "    Returns:\n",
    "    - recall: Recall@5 value\n",
    "    \"\"\"\n",
    "    \n",
    "    primary_col = answer_df.columns[0]\n",
    "    secondary_col = answer_df.columns[1]\n",
    "    \n",
    "    # Check if each primary_col entry has exactly 5 secondary_col predictions\n",
    "    prediction_counts = submission_df.groupby(primary_col).size()\n",
    "    if not all(prediction_counts == 5):\n",
    "        raise ValueError(f\"Each {primary_col} should have exactly 5 {secondary_col} predictions.\")\n",
    "\n",
    "\n",
    "    # Check for NULL values in the predicted secondary_col\n",
    "    if submission_df[secondary_col].isnull().any():\n",
    "        raise ValueError(f\"Predicted {secondary_col} contains NULL values.\")\n",
    "    \n",
    "    # Check for duplicates in the predicted secondary_col for each primary_col\n",
    "    duplicated_preds = submission_df.groupby(primary_col).apply(lambda x: x[secondary_col].duplicated().any())\n",
    "    if duplicated_preds.any():\n",
    "        raise ValueError(f\"Predicted {secondary_col} contains duplicates for some {primary_col}.\")\n",
    "\n",
    "\n",
    "    # Filter the submission dataframe based on the primary_col present in the answer dataframe\n",
    "    submission_df = submission_df[submission_df[primary_col].isin(answer_df[primary_col])]\n",
    "    \n",
    "    # For each primary_col, get the top 5 predicted secondary_col values\n",
    "    top_5_preds = submission_df.groupby(primary_col).apply(lambda x: x[secondary_col].head(5).tolist()).to_dict()\n",
    "    \n",
    "    # Convert the answer_df to a dictionary for easier lookup\n",
    "    true_dict = answer_df.groupby(primary_col).apply(lambda x: x[secondary_col].tolist()).to_dict()\n",
    "    \n",
    "    \n",
    "    individual_recalls = []\n",
    "    for key, val in true_dict.items():\n",
    "        if key in top_5_preds:\n",
    "            correct_matches = len(set(true_dict[key]) & set(top_5_preds[key]))\n",
    "            individual_recall = correct_matches / min(len(val), 5) # 공정한 평가를 가능하게 위하여 분모(k)를 'min(len(val), 5)' 로 설정함 \n",
    "            individual_recalls.append(individual_recall)\n",
    "\n",
    "\n",
    "    recall = np.mean(individual_recalls)\n",
    "    return recall"
   ]
  },
  {
   "cell_type": "code",
   "execution_count": 3,
   "id": "93a162cb-5d78-45ed-8972-c83b816b4620",
   "metadata": {},
   "outputs": [],
   "source": [
    "apply_train = pd.read_csv('./apply_train.csv')"
   ]
  },
  {
   "cell_type": "code",
   "execution_count": 4,
   "id": "4883b28b",
   "metadata": {},
   "outputs": [],
   "source": [
    "from sklearn.metrics.pairwise import cosine_similarity\n",
    "\n",
    "def adjusted_cosine_similarity(matrix):\n",
    "    # 각 행 또는 열의 평균을 구합니다.\n",
    "    row_means = np.nanmean(matrix, axis=1, keepdims=True)\n",
    "    col_means = np.nanmean(matrix, axis=0, keepdims=True)\n",
    "\n",
    "    # NaN 값을 0으로 대체합니다.\n",
    "    filled_matrix = np.where(np.isnan(matrix), 0, matrix)\n",
    "\n",
    "    # 행과 열의 평균을 뺍니다.\n",
    "    matrix_centered = filled_matrix - row_means - col_means + np.nanmean(matrix)\n",
    "\n",
    "    # 코사인 유사도 계산\n",
    "    similarity = cosine_similarity(matrix_centered)\n",
    "    return similarity\n"
   ]
  },
  {
   "cell_type": "code",
   "execution_count": 5,
   "id": "f3772af7-ca3f-4acb-8c0c-b30ee24199a7",
   "metadata": {},
   "outputs": [],
   "source": [
    "#학습, 검증 분리\n",
    "train, val = [], []\n",
    "apply_train_groupby = apply_train.groupby('resume_seq')['recruitment_seq'].apply(list)\n",
    "for uid, iids in zip(apply_train_groupby.index.tolist(), apply_train_groupby.values.tolist()):\n",
    "    for iid in iids[:-1]:\n",
    "        train.append([uid,iid])\n",
    "    val.append([uid, iids[-1]])"
   ]
  },
  {
   "cell_type": "code",
   "execution_count": 6,
   "id": "d2c86a16-f200-4056-8f01-77dcf51e4bf4",
   "metadata": {},
   "outputs": [],
   "source": [
    "train = pd.DataFrame(train, columns=['resume_seq', 'recruitment_seq'])\n",
    "val = pd.DataFrame(val, columns=['resume_seq', 'recruitment_seq'])\n",
    "pred = apply_train.copy()"
   ]
  },
  {
   "cell_type": "code",
   "execution_count": 7,
   "id": "69e97867-c089-4d24-b71e-9bd448b9d1ee",
   "metadata": {},
   "outputs": [],
   "source": [
    "train_user_item_matrix = train.groupby(['resume_seq', 'recruitment_seq']).size().unstack(fill_value=0)\n",
    "pred_user_item_matrix = pred.groupby(['resume_seq', 'recruitment_seq']).size().unstack(fill_value=0)"
   ]
  },
  {
   "cell_type": "code",
   "execution_count": 8,
   "id": "70b94107",
   "metadata": {},
   "outputs": [],
   "source": [
    "# # 훈련 데이터에 대한 조정 코사인 유사도 계산\n",
    "# train_user_similarity = adjusted_cosine_similarity(train_user_item_matrix)\n",
    "# train_item_similarity = adjusted_cosine_similarity(train_user_item_matrix.T)\n",
    "\n",
    "# # 예측 데이터에 대한 조정 코사인 유사도 계산\n",
    "# pred_user_similarity = adjusted_cosine_similarity(pred_user_item_matrix)\n",
    "# pred_item_similarity = adjusted_cosine_similarity(pred_user_item_matrix.T)"
   ]
  },
  {
   "cell_type": "code",
   "execution_count": 9,
   "id": "98edbeea-afdc-4880-9a67-62735ba2d78a",
   "metadata": {},
   "outputs": [],
   "source": [
    "train_user_similarity = cosine_similarity(train_user_item_matrix)\n",
    "train_item_similarity = cosine_similarity(train_user_item_matrix.T)\n",
    "\n",
    "pred_user_similarity = cosine_similarity(pred_user_item_matrix)\n",
    "pred_item_similarity = cosine_similarity(pred_user_item_matrix.T)"
   ]
  },
  {
   "cell_type": "code",
   "execution_count": 10,
   "id": "d253cf1e-7066-4ac2-b5df-5537750c679a",
   "metadata": {},
   "outputs": [],
   "source": [
    "train_user_predicted_scores = train_user_similarity.dot(train_user_item_matrix)\n",
    "train_item_predicted_scores = train_user_item_matrix.dot(train_item_similarity)\n",
    "\n",
    "pred_user_predicted_scores = pred_user_similarity.dot(pred_user_item_matrix)\n",
    "pred_item_predicted_scores = pred_user_item_matrix.dot(pred_item_similarity)"
   ]
  },
  {
   "cell_type": "code",
   "execution_count": 11,
   "id": "9a58d4b6-c99e-4a48-8c92-36411788ebb1",
   "metadata": {},
   "outputs": [],
   "source": [
    "# alpha = 0.98\n",
    "# train_recommendations = []\n",
    "# for idx, user in tqdm(enumerate(train_user_item_matrix.index)):\n",
    "#     applied_jobs = set(train_user_item_matrix.loc[user][train_user_item_matrix.loc[user] == 1].index)\n",
    "    \n",
    "#     # 해당 사용자의 추천 점수 (높은 점수부터 정렬)\n",
    "#     sorted_job_indices = (train_item_predicted_scores.loc[user].values * alpha + train_user_predicted_scores[idx]).argsort()[::-1]\n",
    "#     recommended_jobs = [job for job in train_user_item_matrix.columns[sorted_job_indices] if job not in applied_jobs][:5]\n",
    "    \n",
    "#     for job in recommended_jobs:\n",
    "#         train_recommendations.append([user, job])"
   ]
  },
  {
   "cell_type": "code",
   "execution_count": 13,
   "id": "3b837788",
   "metadata": {},
   "outputs": [
    {
     "name": "stderr",
     "output_type": "stream",
     "text": [
      "0it [00:00, ?it/s]"
     ]
    },
    {
     "name": "stderr",
     "output_type": "stream",
     "text": [
      "8482it [00:12, 683.91it/s]\n"
     ]
    },
    {
     "name": "stdout",
     "output_type": "stream",
     "text": [
      "Alpha: 0.3, Recall@5: 0.1279179438811601\n"
     ]
    },
    {
     "name": "stderr",
     "output_type": "stream",
     "text": [
      "8482it [00:12, 669.91it/s]\n"
     ]
    },
    {
     "name": "stdout",
     "output_type": "stream",
     "text": [
      "Alpha: 0.31, Recall@5: 0.1280358406036312\n"
     ]
    },
    {
     "name": "stderr",
     "output_type": "stream",
     "text": [
      "8482it [00:12, 702.51it/s]\n"
     ]
    },
    {
     "name": "stdout",
     "output_type": "stream",
     "text": [
      "Alpha: 0.32, Recall@5: 0.1279179438811601\n"
     ]
    },
    {
     "name": "stderr",
     "output_type": "stream",
     "text": [
      "8482it [00:11, 724.01it/s]\n"
     ]
    },
    {
     "name": "stdout",
     "output_type": "stream",
     "text": [
      "Alpha: 0.33, Recall@5: 0.12768215043621786\n"
     ]
    },
    {
     "name": "stderr",
     "output_type": "stream",
     "text": [
      "8482it [00:11, 725.07it/s]\n"
     ]
    },
    {
     "name": "stdout",
     "output_type": "stream",
     "text": [
      "Alpha: 0.34, Recall@5: 0.1279179438811601\n"
     ]
    },
    {
     "name": "stderr",
     "output_type": "stream",
     "text": [
      "8482it [00:11, 723.05it/s]\n"
     ]
    },
    {
     "name": "stdout",
     "output_type": "stream",
     "text": [
      "Alpha: 0.35000000000000003, Recall@5: 0.1280358406036312\n"
     ]
    },
    {
     "name": "stderr",
     "output_type": "stream",
     "text": [
      "8482it [00:11, 730.08it/s]\n"
     ]
    },
    {
     "name": "stdout",
     "output_type": "stream",
     "text": [
      "Alpha: 0.36000000000000004, Recall@5: 0.12744635699127566\n"
     ]
    },
    {
     "name": "stderr",
     "output_type": "stream",
     "text": [
      "8482it [00:11, 738.22it/s]\n"
     ]
    },
    {
     "name": "stdout",
     "output_type": "stream",
     "text": [
      "Alpha: 0.37000000000000005, Recall@5: 0.12732846026880454\n"
     ]
    },
    {
     "name": "stderr",
     "output_type": "stream",
     "text": [
      "8482it [00:11, 751.49it/s]\n"
     ]
    },
    {
     "name": "stdout",
     "output_type": "stream",
     "text": [
      "Alpha: 0.38000000000000006, Recall@5: 0.12756425371374674\n"
     ]
    },
    {
     "name": "stderr",
     "output_type": "stream",
     "text": [
      "8482it [00:11, 738.25it/s]\n"
     ]
    },
    {
     "name": "stdout",
     "output_type": "stream",
     "text": [
      "Alpha: 0.39000000000000007, Recall@5: 0.12744635699127566\n"
     ]
    },
    {
     "name": "stderr",
     "output_type": "stream",
     "text": [
      "8482it [00:11, 735.96it/s]\n"
     ]
    },
    {
     "name": "stdout",
     "output_type": "stream",
     "text": [
      "Alpha: 0.4000000000000001, Recall@5: 0.12768215043621786\n"
     ]
    },
    {
     "name": "stderr",
     "output_type": "stream",
     "text": [
      "8482it [00:11, 731.53it/s]\n"
     ]
    },
    {
     "name": "stdout",
     "output_type": "stream",
     "text": [
      "Alpha: 0.4100000000000001, Recall@5: 0.1280358406036312\n"
     ]
    },
    {
     "name": "stderr",
     "output_type": "stream",
     "text": [
      "8482it [00:11, 715.12it/s]\n"
     ]
    },
    {
     "name": "stdout",
     "output_type": "stream",
     "text": [
      "Alpha: 0.4200000000000001, Recall@5: 0.12815373732610233\n"
     ]
    },
    {
     "name": "stderr",
     "output_type": "stream",
     "text": [
      "8482it [00:12, 704.16it/s]\n"
     ]
    },
    {
     "name": "stdout",
     "output_type": "stream",
     "text": [
      "Alpha: 0.4300000000000001, Recall@5: 0.12815373732610233\n"
     ]
    },
    {
     "name": "stderr",
     "output_type": "stream",
     "text": [
      "8482it [00:11, 714.76it/s]\n"
     ]
    },
    {
     "name": "stdout",
     "output_type": "stream",
     "text": [
      "Alpha: 0.4400000000000001, Recall@5: 0.1280358406036312\n"
     ]
    },
    {
     "name": "stderr",
     "output_type": "stream",
     "text": [
      "8482it [00:12, 703.90it/s]\n"
     ]
    },
    {
     "name": "stdout",
     "output_type": "stream",
     "text": [
      "Alpha: 0.4500000000000001, Recall@5: 0.12780004715868898\n"
     ]
    },
    {
     "name": "stderr",
     "output_type": "stream",
     "text": [
      "8482it [00:12, 681.41it/s]\n"
     ]
    },
    {
     "name": "stdout",
     "output_type": "stream",
     "text": [
      "Alpha: 0.46000000000000013, Recall@5: 0.12721056354633342\n"
     ]
    },
    {
     "name": "stderr",
     "output_type": "stream",
     "text": [
      "8482it [00:11, 719.62it/s]\n"
     ]
    },
    {
     "name": "stdout",
     "output_type": "stream",
     "text": [
      "Alpha: 0.47000000000000014, Recall@5: 0.12756425371374674\n"
     ]
    },
    {
     "name": "stderr",
     "output_type": "stream",
     "text": [
      "8482it [00:11, 711.07it/s]\n"
     ]
    },
    {
     "name": "stdout",
     "output_type": "stream",
     "text": [
      "Alpha: 0.48000000000000015, Recall@5: 0.12768215043621786\n"
     ]
    },
    {
     "name": "stderr",
     "output_type": "stream",
     "text": [
      "8482it [00:12, 705.17it/s]\n"
     ]
    },
    {
     "name": "stdout",
     "output_type": "stream",
     "text": [
      "Alpha: 0.49000000000000016, Recall@5: 0.12768215043621786\n"
     ]
    },
    {
     "name": "stderr",
     "output_type": "stream",
     "text": [
      "8482it [00:11, 708.47it/s]\n"
     ]
    },
    {
     "name": "stdout",
     "output_type": "stream",
     "text": [
      "Alpha: 0.5000000000000002, Recall@5: 0.12780004715868898\n"
     ]
    },
    {
     "name": "stderr",
     "output_type": "stream",
     "text": [
      "8482it [00:12, 674.79it/s]\n"
     ]
    },
    {
     "name": "stdout",
     "output_type": "stream",
     "text": [
      "Alpha: 0.5100000000000002, Recall@5: 0.1279179438811601\n"
     ]
    },
    {
     "name": "stderr",
     "output_type": "stream",
     "text": [
      "8482it [00:12, 696.90it/s]\n"
     ]
    },
    {
     "name": "stdout",
     "output_type": "stream",
     "text": [
      "Alpha: 0.5200000000000002, Recall@5: 0.12780004715868898\n"
     ]
    },
    {
     "name": "stderr",
     "output_type": "stream",
     "text": [
      "8482it [00:11, 718.49it/s]\n"
     ]
    },
    {
     "name": "stdout",
     "output_type": "stream",
     "text": [
      "Alpha: 0.5300000000000002, Recall@5: 0.1280358406036312\n"
     ]
    },
    {
     "name": "stderr",
     "output_type": "stream",
     "text": [
      "8482it [00:12, 705.39it/s]\n"
     ]
    },
    {
     "name": "stdout",
     "output_type": "stream",
     "text": [
      "Alpha: 0.5400000000000003, Recall@5: 0.12838953077104456\n"
     ]
    },
    {
     "name": "stderr",
     "output_type": "stream",
     "text": [
      "8482it [00:11, 716.27it/s]\n"
     ]
    },
    {
     "name": "stdout",
     "output_type": "stream",
     "text": [
      "Alpha: 0.5500000000000003, Recall@5: 0.12838953077104456\n"
     ]
    },
    {
     "name": "stderr",
     "output_type": "stream",
     "text": [
      "8482it [00:11, 710.23it/s]\n"
     ]
    },
    {
     "name": "stdout",
     "output_type": "stream",
     "text": [
      "Alpha: 0.5600000000000003, Recall@5: 0.12838953077104456\n"
     ]
    },
    {
     "name": "stderr",
     "output_type": "stream",
     "text": [
      "8482it [00:11, 728.92it/s]\n"
     ]
    },
    {
     "name": "stdout",
     "output_type": "stream",
     "text": [
      "Alpha: 0.5700000000000003, Recall@5: 0.12850742749351568\n"
     ]
    },
    {
     "name": "stderr",
     "output_type": "stream",
     "text": [
      "8482it [00:12, 696.55it/s]\n"
     ]
    },
    {
     "name": "stdout",
     "output_type": "stream",
     "text": [
      "Alpha: 0.5800000000000003, Recall@5: 0.12886111766092903\n"
     ]
    },
    {
     "name": "stderr",
     "output_type": "stream",
     "text": [
      "8482it [00:12, 695.89it/s]\n"
     ]
    },
    {
     "name": "stdout",
     "output_type": "stream",
     "text": [
      "Alpha: 0.5900000000000003, Recall@5: 0.12874322093845791\n"
     ]
    },
    {
     "name": "stderr",
     "output_type": "stream",
     "text": [
      "8482it [00:12, 693.37it/s]\n"
     ]
    },
    {
     "name": "stdout",
     "output_type": "stream",
     "text": [
      "Alpha: 0.6000000000000003, Recall@5: 0.12886111766092903\n"
     ]
    },
    {
     "name": "stderr",
     "output_type": "stream",
     "text": [
      "8482it [00:11, 707.03it/s]\n"
     ]
    },
    {
     "name": "stdout",
     "output_type": "stream",
     "text": [
      "Alpha: 0.6100000000000003, Recall@5: 0.1286253242159868\n"
     ]
    },
    {
     "name": "stderr",
     "output_type": "stream",
     "text": [
      "8482it [00:11, 736.23it/s]\n"
     ]
    },
    {
     "name": "stdout",
     "output_type": "stream",
     "text": [
      "Alpha: 0.6200000000000003, Recall@5: 0.1286253242159868\n"
     ]
    },
    {
     "name": "stderr",
     "output_type": "stream",
     "text": [
      "8482it [00:11, 747.56it/s]\n"
     ]
    },
    {
     "name": "stdout",
     "output_type": "stream",
     "text": [
      "Alpha: 0.6300000000000003, Recall@5: 0.12838953077104456\n"
     ]
    },
    {
     "name": "stderr",
     "output_type": "stream",
     "text": [
      "8482it [00:11, 731.50it/s]\n"
     ]
    },
    {
     "name": "stdout",
     "output_type": "stream",
     "text": [
      "Alpha: 0.6400000000000003, Recall@5: 0.12838953077104456\n"
     ]
    },
    {
     "name": "stderr",
     "output_type": "stream",
     "text": [
      "8482it [00:12, 692.11it/s]\n"
     ]
    },
    {
     "name": "stdout",
     "output_type": "stream",
     "text": [
      "Alpha: 0.6500000000000004, Recall@5: 0.12815373732610233\n"
     ]
    },
    {
     "name": "stderr",
     "output_type": "stream",
     "text": [
      "8482it [00:11, 711.08it/s]\n"
     ]
    },
    {
     "name": "stdout",
     "output_type": "stream",
     "text": [
      "Alpha: 0.6600000000000004, Recall@5: 0.1279179438811601\n"
     ]
    },
    {
     "name": "stderr",
     "output_type": "stream",
     "text": [
      "8482it [00:11, 734.50it/s]\n"
     ]
    },
    {
     "name": "stdout",
     "output_type": "stream",
     "text": [
      "Alpha: 0.6700000000000004, Recall@5: 0.1280358406036312\n"
     ]
    },
    {
     "name": "stderr",
     "output_type": "stream",
     "text": [
      "8482it [00:11, 709.72it/s]\n"
     ]
    },
    {
     "name": "stdout",
     "output_type": "stream",
     "text": [
      "Alpha: 0.6800000000000004, Recall@5: 0.12850742749351568\n"
     ]
    },
    {
     "name": "stderr",
     "output_type": "stream",
     "text": [
      "8482it [00:11, 720.39it/s]\n"
     ]
    },
    {
     "name": "stdout",
     "output_type": "stream",
     "text": [
      "Alpha: 0.6900000000000004, Recall@5: 0.12874322093845791\n"
     ]
    },
    {
     "name": "stderr",
     "output_type": "stream",
     "text": [
      "8482it [00:11, 724.98it/s]\n"
     ]
    },
    {
     "name": "stdout",
     "output_type": "stream",
     "text": [
      "Alpha: 0.7000000000000004, Recall@5: 0.1286253242159868\n"
     ]
    },
    {
     "name": "stderr",
     "output_type": "stream",
     "text": [
      "8482it [00:11, 730.12it/s]\n"
     ]
    },
    {
     "name": "stdout",
     "output_type": "stream",
     "text": [
      "Alpha: 0.7100000000000004, Recall@5: 0.12874322093845791\n"
     ]
    },
    {
     "name": "stderr",
     "output_type": "stream",
     "text": [
      "8482it [00:11, 725.00it/s]\n"
     ]
    },
    {
     "name": "stdout",
     "output_type": "stream",
     "text": [
      "Alpha: 0.7200000000000004, Recall@5: 0.1286253242159868\n"
     ]
    },
    {
     "name": "stderr",
     "output_type": "stream",
     "text": [
      "8482it [00:12, 701.40it/s]\n"
     ]
    },
    {
     "name": "stdout",
     "output_type": "stream",
     "text": [
      "Alpha: 0.7300000000000004, Recall@5: 0.1286253242159868\n"
     ]
    },
    {
     "name": "stderr",
     "output_type": "stream",
     "text": [
      "8482it [00:12, 691.47it/s]\n"
     ]
    },
    {
     "name": "stdout",
     "output_type": "stream",
     "text": [
      "Alpha: 0.7400000000000004, Recall@5: 0.12850742749351568\n"
     ]
    },
    {
     "name": "stderr",
     "output_type": "stream",
     "text": [
      "8482it [00:11, 711.97it/s]\n"
     ]
    },
    {
     "name": "stdout",
     "output_type": "stream",
     "text": [
      "Alpha: 0.7500000000000004, Recall@5: 0.12838953077104456\n"
     ]
    },
    {
     "name": "stderr",
     "output_type": "stream",
     "text": [
      "8482it [00:12, 699.00it/s]\n"
     ]
    },
    {
     "name": "stdout",
     "output_type": "stream",
     "text": [
      "Alpha: 0.7600000000000005, Recall@5: 0.12815373732610233\n"
     ]
    },
    {
     "name": "stderr",
     "output_type": "stream",
     "text": [
      "8482it [00:11, 716.50it/s]\n"
     ]
    },
    {
     "name": "stdout",
     "output_type": "stream",
     "text": [
      "Alpha: 0.7700000000000005, Recall@5: 0.1280358406036312\n"
     ]
    },
    {
     "name": "stderr",
     "output_type": "stream",
     "text": [
      "8482it [00:11, 725.52it/s]\n"
     ]
    },
    {
     "name": "stdout",
     "output_type": "stream",
     "text": [
      "Alpha: 0.7800000000000005, Recall@5: 0.1279179438811601\n"
     ]
    },
    {
     "name": "stderr",
     "output_type": "stream",
     "text": [
      "8482it [00:12, 705.18it/s]\n"
     ]
    },
    {
     "name": "stdout",
     "output_type": "stream",
     "text": [
      "Alpha: 0.7900000000000005, Recall@5: 0.1279179438811601\n"
     ]
    },
    {
     "name": "stderr",
     "output_type": "stream",
     "text": [
      "8482it [00:16, 515.73it/s]\n"
     ]
    },
    {
     "name": "stdout",
     "output_type": "stream",
     "text": [
      "Alpha: 0.8000000000000005, Recall@5: 0.12827163404857345\n"
     ]
    },
    {
     "name": "stderr",
     "output_type": "stream",
     "text": [
      "8482it [00:11, 715.01it/s]\n"
     ]
    },
    {
     "name": "stdout",
     "output_type": "stream",
     "text": [
      "Alpha: 0.8100000000000005, Recall@5: 0.12827163404857345\n"
     ]
    },
    {
     "name": "stderr",
     "output_type": "stream",
     "text": [
      "8482it [00:12, 700.39it/s]\n"
     ]
    },
    {
     "name": "stdout",
     "output_type": "stream",
     "text": [
      "Alpha: 0.8200000000000005, Recall@5: 0.12827163404857345\n"
     ]
    },
    {
     "name": "stderr",
     "output_type": "stream",
     "text": [
      "8482it [00:12, 702.43it/s]\n"
     ]
    },
    {
     "name": "stdout",
     "output_type": "stream",
     "text": [
      "Alpha: 0.8300000000000005, Recall@5: 0.12815373732610233\n"
     ]
    },
    {
     "name": "stderr",
     "output_type": "stream",
     "text": [
      "8482it [00:11, 717.99it/s]\n"
     ]
    },
    {
     "name": "stdout",
     "output_type": "stream",
     "text": [
      "Alpha: 0.8400000000000005, Recall@5: 0.1280358406036312\n"
     ]
    },
    {
     "name": "stderr",
     "output_type": "stream",
     "text": [
      "8482it [00:12, 693.44it/s]\n"
     ]
    },
    {
     "name": "stdout",
     "output_type": "stream",
     "text": [
      "Alpha: 0.8500000000000005, Recall@5: 0.1279179438811601\n"
     ]
    },
    {
     "name": "stderr",
     "output_type": "stream",
     "text": [
      "8482it [00:12, 682.22it/s]\n"
     ]
    },
    {
     "name": "stdout",
     "output_type": "stream",
     "text": [
      "Alpha: 0.8600000000000005, Recall@5: 0.12780004715868898\n"
     ]
    },
    {
     "name": "stderr",
     "output_type": "stream",
     "text": [
      "8482it [00:12, 706.59it/s]\n"
     ]
    },
    {
     "name": "stdout",
     "output_type": "stream",
     "text": [
      "Alpha: 0.8700000000000006, Recall@5: 0.12815373732610233\n"
     ]
    },
    {
     "name": "stderr",
     "output_type": "stream",
     "text": [
      "8482it [00:11, 733.84it/s]\n"
     ]
    },
    {
     "name": "stdout",
     "output_type": "stream",
     "text": [
      "Alpha: 0.8800000000000006, Recall@5: 0.12815373732610233\n"
     ]
    },
    {
     "name": "stderr",
     "output_type": "stream",
     "text": [
      "8482it [00:11, 738.37it/s]\n"
     ]
    },
    {
     "name": "stdout",
     "output_type": "stream",
     "text": [
      "Alpha: 0.8900000000000006, Recall@5: 0.1280358406036312\n"
     ]
    },
    {
     "name": "stderr",
     "output_type": "stream",
     "text": [
      "8482it [00:11, 737.01it/s]\n"
     ]
    },
    {
     "name": "stdout",
     "output_type": "stream",
     "text": [
      "Alpha: 0.9000000000000006, Recall@5: 0.12827163404857345\n"
     ]
    },
    {
     "name": "stderr",
     "output_type": "stream",
     "text": [
      "8482it [00:12, 688.62it/s]\n"
     ]
    },
    {
     "name": "stdout",
     "output_type": "stream",
     "text": [
      "Alpha: 0.9100000000000006, Recall@5: 0.12838953077104456\n"
     ]
    },
    {
     "name": "stderr",
     "output_type": "stream",
     "text": [
      "8482it [00:11, 718.31it/s]\n"
     ]
    },
    {
     "name": "stdout",
     "output_type": "stream",
     "text": [
      "Alpha: 0.9200000000000006, Recall@5: 0.12827163404857345\n"
     ]
    },
    {
     "name": "stderr",
     "output_type": "stream",
     "text": [
      "8482it [00:11, 707.23it/s]\n"
     ]
    },
    {
     "name": "stdout",
     "output_type": "stream",
     "text": [
      "Alpha: 0.9300000000000006, Recall@5: 0.12850742749351568\n"
     ]
    },
    {
     "name": "stderr",
     "output_type": "stream",
     "text": [
      "8482it [00:11, 709.04it/s]\n"
     ]
    },
    {
     "name": "stdout",
     "output_type": "stream",
     "text": [
      "Alpha: 0.9400000000000006, Recall@5: 0.12850742749351568\n"
     ]
    },
    {
     "name": "stderr",
     "output_type": "stream",
     "text": [
      "8482it [00:11, 739.13it/s]\n"
     ]
    },
    {
     "name": "stdout",
     "output_type": "stream",
     "text": [
      "Alpha: 0.9500000000000006, Recall@5: 0.12827163404857345\n"
     ]
    },
    {
     "name": "stderr",
     "output_type": "stream",
     "text": [
      "8482it [00:10, 780.00it/s]\n"
     ]
    },
    {
     "name": "stdout",
     "output_type": "stream",
     "text": [
      "Alpha: 0.9600000000000006, Recall@5: 0.12886111766092903\n"
     ]
    },
    {
     "name": "stderr",
     "output_type": "stream",
     "text": [
      "8482it [00:10, 777.54it/s]\n"
     ]
    },
    {
     "name": "stdout",
     "output_type": "stream",
     "text": [
      "Alpha: 0.9700000000000006, Recall@5: 0.12909691110587126\n"
     ]
    },
    {
     "name": "stderr",
     "output_type": "stream",
     "text": [
      "8482it [00:10, 783.72it/s]\n"
     ]
    },
    {
     "name": "stdout",
     "output_type": "stream",
     "text": [
      "Alpha: 0.9800000000000006, Recall@5: 0.12909691110587126\n"
     ]
    },
    {
     "name": "stderr",
     "output_type": "stream",
     "text": [
      "8482it [00:11, 763.09it/s]\n"
     ]
    },
    {
     "name": "stdout",
     "output_type": "stream",
     "text": [
      "Alpha: 0.9900000000000007, Recall@5: 0.12909691110587126\n",
      "Best Alpha: 0.9700000000000006, Best Recall@5: 0.12909691110587126\n"
     ]
    }
   ],
   "source": [
    "import numpy as np\n",
    "\n",
    "alpha_values = np.arange(0.30, 1.0, 0.01)  \n",
    "\n",
    "best_alpha = None\n",
    "best_recall = 0\n",
    "\n",
    "for alpha in alpha_values:\n",
    "    train_recommendations = []\n",
    "    for idx, user in tqdm(enumerate(train_user_item_matrix.index)):\n",
    "        applied_jobs = set(train_user_item_matrix.loc[user][train_user_item_matrix.loc[user] == 1].index)\n",
    "        \n",
    "        # 해당 사용자의 추천 점수 (높은 점수부터 정렬)\n",
    "        sorted_job_indices = (train_item_predicted_scores.loc[user].values * alpha + train_user_predicted_scores[idx]).argsort()[::-1]\n",
    "        recommended_jobs = [job for job in train_user_item_matrix.columns[sorted_job_indices] if job not in applied_jobs][:5]\n",
    "        \n",
    "        for job in recommended_jobs:\n",
    "            train_recommendations.append([user, job])\n",
    "    \n",
    "    val_prediction = pd.DataFrame(train_recommendations, columns=['resume_seq', 'recruitment_seq'])\n",
    "    recall = recall5(val, val_prediction)\n",
    "    \n",
    "    print(f\"Alpha: {alpha}, Recall@5: {recall}\")\n",
    "\n",
    "    if recall > best_recall:\n",
    "        best_recall = recall\n",
    "        best_alpha = alpha\n",
    "\n",
    "print(f\"Best Alpha: {best_alpha}, Best Recall@5: {best_recall}\")\n"
   ]
  },
  {
   "cell_type": "code",
   "execution_count": 73,
   "id": "bd0bee78-4e44-46bf-b777-bb7469227e75",
   "metadata": {},
   "outputs": [],
   "source": [
    "val_prediction = pd.DataFrame(train_recommendations, columns=['resume_seq', 'recruitment_seq'])"
   ]
  },
  {
   "cell_type": "code",
   "execution_count": 74,
   "id": "a151a71e-c3f9-4d6e-9308-307b8a283a04",
   "metadata": {},
   "outputs": [
    {
     "data": {
      "text/plain": [
       "0.1279179438811601"
      ]
     },
     "execution_count": 74,
     "metadata": {},
     "output_type": "execute_result"
    }
   ],
   "source": [
    "recall5(val,val_prediction)"
   ]
  },
  {
   "cell_type": "code",
   "execution_count": 75,
   "id": "b39b774e-dded-4590-8b1e-e537beedb1ae",
   "metadata": {},
   "outputs": [
    {
     "data": {
      "text/plain": [
       "0.1279179438811601"
      ]
     },
     "execution_count": 75,
     "metadata": {},
     "output_type": "execute_result"
    }
   ],
   "source": [
    "recall5(val,val_prediction)"
   ]
  },
  {
   "cell_type": "code",
   "execution_count": null,
   "id": "2f8f4b46-4e4d-4122-8414-8db10cf0de78",
   "metadata": {},
   "outputs": [],
   "source": []
  },
  {
   "cell_type": "code",
   "execution_count": null,
   "id": "8d08a014-f430-4fce-8d79-74f68ff96aed",
   "metadata": {},
   "outputs": [],
   "source": []
  },
  {
   "cell_type": "code",
   "execution_count": 54,
   "id": "683d9837-27cf-4f19-972f-61223929ce69",
   "metadata": {},
   "outputs": [
    {
     "name": "stderr",
     "output_type": "stream",
     "text": [
      "0it [00:00, ?it/s]"
     ]
    },
    {
     "name": "stderr",
     "output_type": "stream",
     "text": [
      "8482it [00:23, 367.43it/s]\n"
     ]
    }
   ],
   "source": [
    "alpha = 0.98\n",
    "pred_recommendations = []\n",
    "for idx, user in tqdm(enumerate(pred_user_item_matrix.index)):\n",
    "    applied_jobs = set(pred_user_item_matrix.loc[user][pred_user_item_matrix.loc[user] == 1].index)\n",
    "    \n",
    "    sorted_job_indices = (pred_item_predicted_scores.loc[user].values * alpha + pred_user_predicted_scores[idx]).argsort()[::-1]\n",
    "    recommended_jobs = [job for job in pred_user_item_matrix.columns[sorted_job_indices] if job not in applied_jobs][:5]\n",
    "    \n",
    "    for job in recommended_jobs:\n",
    "        pred_recommendations.append([user, job])"
   ]
  },
  {
   "cell_type": "code",
   "execution_count": 55,
   "id": "19c2464a-3e70-4c0d-8d94-986a9b4cd53f",
   "metadata": {},
   "outputs": [],
   "source": [
    "top_recommendations = pd.DataFrame(pred_recommendations, columns=['resume_seq', 'recruitment_seq'])\n",
    "top_recommendations.to_csv('E:/국민대/open/models/baseline_add_item_0.97.csv', index=False)"
   ]
  },
  {
   "cell_type": "code",
   "execution_count": null,
   "id": "be04d46b-9b8f-43f4-856c-82e386d49992",
   "metadata": {},
   "outputs": [],
   "source": []
  },
  {
   "cell_type": "code",
   "execution_count": null,
   "id": "c5ff34a1-b231-45f4-9a06-40c3c842257f",
   "metadata": {},
   "outputs": [],
   "source": []
  }
 ],
 "metadata": {
  "kernelspec": {
   "display_name": "Python 3 (ipykernel)",
   "language": "python",
   "name": "python3"
  },
  "language_info": {
   "codemirror_mode": {
    "name": "ipython",
    "version": 3
   },
   "file_extension": ".py",
   "mimetype": "text/x-python",
   "name": "python",
   "nbconvert_exporter": "python",
   "pygments_lexer": "ipython3",
   "version": "3.10.11"
  }
 },
 "nbformat": 4,
 "nbformat_minor": 5
}
