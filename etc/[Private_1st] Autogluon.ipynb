{
 "cells": [
  {
   "cell_type": "code",
   "execution_count": null,
   "metadata": {},
   "outputs": [],
   "source": [
    "import os\n",
    "import pandas as pd\n",
    "from autogluon.tabular import TabularDataset, TabularPredictor\n",
    "\n",
    "os.makedirs('submissions', exist_ok=True)"
   ]
  },
  {
   "cell_type": "code",
   "execution_count": null,
   "metadata": {},
   "outputs": [],
   "source": [
    "train_data = TabularDataset('data/train.csv')\n",
    "test_data = TabularDataset('data/test.csv')\n",
    "\n",
    "save_path = 'AutogluonModels/mae_360000'\n",
    "predictor = TabularPredictor(\n",
    "    label='가격',\n",
    "    path=save_path,\n",
    "    eval_metric='mean_absolute_error'\n",
    "    ).fit(\n",
    "        train_data=train_data, \n",
    "        presets='best_quality',\n",
    "        time_limit=360000\n",
    "        )\n",
    "\n",
    "pred = predictor.predict(test_data)\n",
    "sub = pd.read_csv('data/sample_submission.csv')\n",
    "sub['가격'] = pred\n",
    "sub.to_csv('submissions/autogluon_mae_360000.csv', index=False)"
   ]
  },
  {
   "cell_type": "code",
   "execution_count": null,
   "metadata": {},
   "outputs": [],
   "source": [
    "save_path = 'AutogluonModels/mae'\n",
    "predictor = TabularPredictor(\n",
    "    label='가격',\n",
    "    path=save_path,\n",
    "    eval_metric='mean_absolute_error'\n",
    "    ).fit(\n",
    "        train_data=train_data, \n",
    "        presets='best_quality'\n",
    "        )\n",
    "\n",
    "pred = predictor.predict(test_data)\n",
    "sub = pd.read_csv('data/sample_submission.csv')\n",
    "sub['가격'] = pred\n",
    "sub.to_csv('submissions/autogluon_mae.csv', index=False)"
   ]
  },
  {
   "cell_type": "code",
   "execution_count": null,
   "metadata": {},
   "outputs": [],
   "source": [
    "df1 = pd.read_csv('submissions/autogluon_mae.csv')\n",
    "df2 = pd.read_csv('submissions/autogluon_mae_360000.csv')\n",
    "ensembled = (df1['가격'] + df2['가격']) / 2\n",
    "df2['가격'] = ensembled\n",
    "df2.to_csv('submissions/ensembled.csv', index=False)"
   ]
  }
 ],
 "metadata": {
  "kernelspec": {
   "display_name": "pytorch20",
   "language": "python",
   "name": "pytorch20"
  },
  "language_info": {
   "codemirror_mode": {
    "name": "ipython",
    "version": 3
   },
   "file_extension": ".py",
   "mimetype": "text/x-python",
   "name": "python",
   "nbconvert_exporter": "python",
   "pygments_lexer": "ipython3",
   "version": "3.10.10"
  }
 },
 "nbformat": 4,
 "nbformat_minor": 4
}
