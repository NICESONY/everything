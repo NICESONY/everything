{
 "cells": [
  {
   "cell_type": "markdown",
   "metadata": {},
   "source": [
    "# Import"
   ]
  },
  {
   "cell_type": "code",
   "execution_count": 8,
   "metadata": {},
   "outputs": [],
   "source": [
    "import pandas as pd\n",
    "import numpy as np\n",
    "import random\n",
    "import os\n",
    "from tqdm import tqdm\n",
    "\n",
    "from sklearn.model_selection import KFold\n",
    "from sklearn.ensemble import RandomForestRegressor, GradientBoostingRegressor\n",
    "from sklearn.metrics import mean_absolute_error"
   ]
  },
  {
   "cell_type": "markdown",
   "metadata": {},
   "source": [
    "# 데이터 읽어오기"
   ]
  },
  {
   "cell_type": "code",
   "execution_count": 9,
   "metadata": {},
   "outputs": [],
   "source": [
    "train = pd.read_csv('train.csv')\n",
    "test = pd.read_csv('test.csv')\n",
    "submission = pd.read_csv('sample_submission.csv')"
   ]
  },
  {
   "cell_type": "markdown",
   "metadata": {},
   "source": [
    "# 시드 고정"
   ]
  },
  {
   "cell_type": "code",
   "execution_count": 10,
   "metadata": {},
   "outputs": [],
   "source": [
    "def seed_everything(seed):\n",
    "    random.seed(seed)\n",
    "    os.environ['PYTHONHASHSEED'] = str(seed)\n",
    "    np.random.seed(seed)\n",
    "\n",
    "seed_everything(42) # Seed 고정"
   ]
  },
  {
   "cell_type": "markdown",
   "metadata": {},
   "source": [
    "# 데이터 확인"
   ]
  },
  {
   "cell_type": "code",
   "execution_count": 11,
   "metadata": {},
   "outputs": [
    {
     "data": {
      "text/html": [
       "<div>\n",
       "<style scoped>\n",
       "    .dataframe tbody tr th:only-of-type {\n",
       "        vertical-align: middle;\n",
       "    }\n",
       "\n",
       "    .dataframe tbody tr th {\n",
       "        vertical-align: top;\n",
       "    }\n",
       "\n",
       "    .dataframe thead th {\n",
       "        text-align: right;\n",
       "    }\n",
       "</style>\n",
       "<table border=\"1\" class=\"dataframe\">\n",
       "  <thead>\n",
       "    <tr style=\"text-align: right;\">\n",
       "      <th></th>\n",
       "      <th>ID</th>\n",
       "      <th>number_of_elements</th>\n",
       "      <th>mean_atomic_mass</th>\n",
       "      <th>wtd_mean_atomic_mass</th>\n",
       "      <th>gmean_atomic_mass</th>\n",
       "      <th>wtd_gmean_atomic_mass</th>\n",
       "      <th>entropy_atomic_mass</th>\n",
       "      <th>wtd_entropy_atomic_mass</th>\n",
       "      <th>range_atomic_mass</th>\n",
       "      <th>wtd_range_atomic_mass</th>\n",
       "      <th>...</th>\n",
       "      <th>wtd_mean_Valence</th>\n",
       "      <th>gmean_Valence</th>\n",
       "      <th>wtd_gmean_Valence</th>\n",
       "      <th>entropy_Valence</th>\n",
       "      <th>wtd_entropy_Valence</th>\n",
       "      <th>range_Valence</th>\n",
       "      <th>wtd_range_Valence</th>\n",
       "      <th>std_Valence</th>\n",
       "      <th>wtd_std_Valence</th>\n",
       "      <th>critical_temp</th>\n",
       "    </tr>\n",
       "  </thead>\n",
       "  <tbody>\n",
       "    <tr>\n",
       "      <th>0</th>\n",
       "      <td>TRAIN_00000</td>\n",
       "      <td>3</td>\n",
       "      <td>0.42099</td>\n",
       "      <td>0.39479</td>\n",
       "      <td>0.42310</td>\n",
       "      <td>0.40580</td>\n",
       "      <td>0.55107</td>\n",
       "      <td>0.41532</td>\n",
       "      <td>0.10631</td>\n",
       "      <td>0.20542</td>\n",
       "      <td>...</td>\n",
       "      <td>0.83333</td>\n",
       "      <td>0.83333</td>\n",
       "      <td>0.83333</td>\n",
       "      <td>0.5129</td>\n",
       "      <td>0.40409</td>\n",
       "      <td>0.00000</td>\n",
       "      <td>0.46583</td>\n",
       "      <td>0.00000</td>\n",
       "      <td>0.00000</td>\n",
       "      <td>5.69</td>\n",
       "    </tr>\n",
       "    <tr>\n",
       "      <th>1</th>\n",
       "      <td>TRAIN_00001</td>\n",
       "      <td>4</td>\n",
       "      <td>0.34401</td>\n",
       "      <td>0.22868</td>\n",
       "      <td>0.26533</td>\n",
       "      <td>0.16498</td>\n",
       "      <td>0.60467</td>\n",
       "      <td>0.65628</td>\n",
       "      <td>0.58338</td>\n",
       "      <td>0.07245</td>\n",
       "      <td>...</td>\n",
       "      <td>0.18003</td>\n",
       "      <td>0.20223</td>\n",
       "      <td>0.17768</td>\n",
       "      <td>0.6391</td>\n",
       "      <td>0.62743</td>\n",
       "      <td>0.16667</td>\n",
       "      <td>0.11400</td>\n",
       "      <td>0.14434</td>\n",
       "      <td>0.09053</td>\n",
       "      <td>43.60</td>\n",
       "    </tr>\n",
       "    <tr>\n",
       "      <th>2</th>\n",
       "      <td>TRAIN_00002</td>\n",
       "      <td>4</td>\n",
       "      <td>0.34437</td>\n",
       "      <td>0.25134</td>\n",
       "      <td>0.26510</td>\n",
       "      <td>0.16350</td>\n",
       "      <td>0.60353</td>\n",
       "      <td>0.45025</td>\n",
       "      <td>0.59097</td>\n",
       "      <td>0.18672</td>\n",
       "      <td>...</td>\n",
       "      <td>0.21317</td>\n",
       "      <td>0.20223</td>\n",
       "      <td>0.20660</td>\n",
       "      <td>0.6391</td>\n",
       "      <td>0.50931</td>\n",
       "      <td>0.16667</td>\n",
       "      <td>0.16327</td>\n",
       "      <td>0.14434</td>\n",
       "      <td>0.14951</td>\n",
       "      <td>39.00</td>\n",
       "    </tr>\n",
       "  </tbody>\n",
       "</table>\n",
       "<p>3 rows × 83 columns</p>\n",
       "</div>"
      ],
      "text/plain": [
       "            ID  number_of_elements  mean_atomic_mass  wtd_mean_atomic_mass  \\\n",
       "0  TRAIN_00000                   3           0.42099               0.39479   \n",
       "1  TRAIN_00001                   4           0.34401               0.22868   \n",
       "2  TRAIN_00002                   4           0.34437               0.25134   \n",
       "\n",
       "   gmean_atomic_mass  wtd_gmean_atomic_mass  entropy_atomic_mass  \\\n",
       "0            0.42310                0.40580              0.55107   \n",
       "1            0.26533                0.16498              0.60467   \n",
       "2            0.26510                0.16350              0.60353   \n",
       "\n",
       "   wtd_entropy_atomic_mass  range_atomic_mass  wtd_range_atomic_mass  ...  \\\n",
       "0                  0.41532            0.10631                0.20542  ...   \n",
       "1                  0.65628            0.58338                0.07245  ...   \n",
       "2                  0.45025            0.59097                0.18672  ...   \n",
       "\n",
       "   wtd_mean_Valence  gmean_Valence  wtd_gmean_Valence  entropy_Valence  \\\n",
       "0           0.83333        0.83333            0.83333           0.5129   \n",
       "1           0.18003        0.20223            0.17768           0.6391   \n",
       "2           0.21317        0.20223            0.20660           0.6391   \n",
       "\n",
       "   wtd_entropy_Valence  range_Valence  wtd_range_Valence  std_Valence  \\\n",
       "0              0.40409        0.00000            0.46583      0.00000   \n",
       "1              0.62743        0.16667            0.11400      0.14434   \n",
       "2              0.50931        0.16667            0.16327      0.14434   \n",
       "\n",
       "   wtd_std_Valence  critical_temp  \n",
       "0          0.00000           5.69  \n",
       "1          0.09053          43.60  \n",
       "2          0.14951          39.00  \n",
       "\n",
       "[3 rows x 83 columns]"
      ]
     },
     "execution_count": 11,
     "metadata": {},
     "output_type": "execute_result"
    }
   ],
   "source": [
    "train.head(3)"
   ]
  },
  {
   "cell_type": "code",
   "execution_count": 15,
   "metadata": {},
   "outputs": [
    {
     "name": "stdout",
     "output_type": "stream",
     "text": [
      "<class 'pandas.core.frame.DataFrame'>\n",
      "RangeIndex: 12759 entries, 0 to 12758\n",
      "Data columns (total 83 columns):\n",
      " #   Column                           Non-Null Count  Dtype  \n",
      "---  ------                           --------------  -----  \n",
      " 0   ID                               12759 non-null  object \n",
      " 1   number_of_elements               12759 non-null  int64  \n",
      " 2   mean_atomic_mass                 12759 non-null  float64\n",
      " 3   wtd_mean_atomic_mass             12759 non-null  float64\n",
      " 4   gmean_atomic_mass                12759 non-null  float64\n",
      " 5   wtd_gmean_atomic_mass            12759 non-null  float64\n",
      " 6   entropy_atomic_mass              12759 non-null  float64\n",
      " 7   wtd_entropy_atomic_mass          12759 non-null  float64\n",
      " 8   range_atomic_mass                12759 non-null  float64\n",
      " 9   wtd_range_atomic_mass            12759 non-null  float64\n",
      " 10  std_atomic_mass                  12759 non-null  float64\n",
      " 11  wtd_std_atomic_mass              12759 non-null  float64\n",
      " 12  mean_fie                         12759 non-null  float64\n",
      " 13  wtd_mean_fie                     12759 non-null  float64\n",
      " 14  gmean_fie                        12759 non-null  float64\n",
      " 15  wtd_gmean_fie                    12759 non-null  float64\n",
      " 16  entropy_fie                      12759 non-null  float64\n",
      " 17  wtd_entropy_fie                  12759 non-null  float64\n",
      " 18  range_fie                        12759 non-null  float64\n",
      " 19  wtd_range_fie                    12759 non-null  float64\n",
      " 20  std_fie                          12759 non-null  float64\n",
      " 21  wtd_std_fie                      12759 non-null  float64\n",
      " 22  mean_atomic_radius               12759 non-null  float64\n",
      " 23  wtd_mean_atomic_radius           12759 non-null  float64\n",
      " 24  gmean_atomic_radius              12759 non-null  float64\n",
      " 25  wtd_gmean_atomic_radius          12759 non-null  float64\n",
      " 26  entropy_atomic_radius            12759 non-null  float64\n",
      " 27  wtd_entropy_atomic_radius        12759 non-null  float64\n",
      " 28  range_atomic_radius              12759 non-null  float64\n",
      " 29  wtd_range_atomic_radius          12759 non-null  float64\n",
      " 30  std_atomic_radius                12759 non-null  float64\n",
      " 31  wtd_std_atomic_radius            12759 non-null  float64\n",
      " 32  mean_Density                     12759 non-null  float64\n",
      " 33  wtd_mean_Density                 12759 non-null  float64\n",
      " 34  gmean_Density                    12759 non-null  float64\n",
      " 35  wtd_gmean_Density                12759 non-null  float64\n",
      " 36  entropy_Density                  12759 non-null  float64\n",
      " 37  wtd_entropy_Density              12759 non-null  float64\n",
      " 38  range_Density                    12759 non-null  float64\n",
      " 39  wtd_range_Density                12759 non-null  float64\n",
      " 40  std_Density                      12759 non-null  float64\n",
      " 41  wtd_std_Density                  12759 non-null  float64\n",
      " 42  mean_ElectronAffinity            12759 non-null  float64\n",
      " 43  wtd_mean_ElectronAffinity        12759 non-null  float64\n",
      " 44  gmean_ElectronAffinity           12759 non-null  float64\n",
      " 45  wtd_gmean_ElectronAffinity       12759 non-null  float64\n",
      " 46  entropy_ElectronAffinity         12759 non-null  float64\n",
      " 47  wtd_entropy_ElectronAffinity     12759 non-null  float64\n",
      " 48  range_ElectronAffinity           12759 non-null  float64\n",
      " 49  wtd_range_ElectronAffinity       12759 non-null  float64\n",
      " 50  std_ElectronAffinity             12759 non-null  float64\n",
      " 51  wtd_std_ElectronAffinity         12759 non-null  float64\n",
      " 52  mean_FusionHeat                  12759 non-null  float64\n",
      " 53  wtd_mean_FusionHeat              12759 non-null  float64\n",
      " 54  gmean_FusionHeat                 12759 non-null  float64\n",
      " 55  wtd_gmean_FusionHeat             12759 non-null  float64\n",
      " 56  entropy_FusionHeat               12759 non-null  float64\n",
      " 57  wtd_entropy_FusionHeat           12759 non-null  float64\n",
      " 58  range_FusionHeat                 12759 non-null  float64\n",
      " 59  wtd_range_FusionHeat             12759 non-null  float64\n",
      " 60  std_FusionHeat                   12759 non-null  float64\n",
      " 61  wtd_std_FusionHeat               12759 non-null  float64\n",
      " 62  mean_ThermalConductivity         12759 non-null  float64\n",
      " 63  wtd_mean_ThermalConductivity     12759 non-null  float64\n",
      " 64  gmean_ThermalConductivity        12759 non-null  float64\n",
      " 65  wtd_gmean_ThermalConductivity    12759 non-null  float64\n",
      " 66  entropy_ThermalConductivity      12759 non-null  float64\n",
      " 67  wtd_entropy_ThermalConductivity  12759 non-null  float64\n",
      " 68  range_ThermalConductivity        12759 non-null  float64\n",
      " 69  wtd_range_ThermalConductivity    12759 non-null  float64\n",
      " 70  std_ThermalConductivity          12759 non-null  float64\n",
      " 71  wtd_std_ThermalConductivity      12759 non-null  float64\n",
      " 72  mean_Valence                     12759 non-null  float64\n",
      " 73  wtd_mean_Valence                 12759 non-null  float64\n",
      " 74  gmean_Valence                    12759 non-null  float64\n",
      " 75  wtd_gmean_Valence                12759 non-null  float64\n",
      " 76  entropy_Valence                  12759 non-null  float64\n",
      " 77  wtd_entropy_Valence              12759 non-null  float64\n",
      " 78  range_Valence                    12759 non-null  float64\n",
      " 79  wtd_range_Valence                12759 non-null  float64\n",
      " 80  std_Valence                      12759 non-null  float64\n",
      " 81  wtd_std_Valence                  12759 non-null  float64\n",
      " 82  critical_temp                    12759 non-null  float64\n",
      "dtypes: float64(81), int64(1), object(1)\n",
      "memory usage: 8.1+ MB\n"
     ]
    }
   ],
   "source": [
    "train.info()"
   ]
  },
  {
   "cell_type": "markdown",
   "metadata": {},
   "source": [
    "# 독립변수, 종속변수 생성"
   ]
  },
  {
   "cell_type": "code",
   "execution_count": 12,
   "metadata": {},
   "outputs": [],
   "source": [
    "X = train.drop(['ID', 'critical_temp'], axis = 1)\n",
    "Y = train['critical_temp']\n",
    "\n",
    "X_test = test.drop('ID', axis = 1)"
   ]
  },
  {
   "cell_type": "markdown",
   "metadata": {},
   "source": [
    "# 모델학습 및 추론"
   ]
  },
  {
   "cell_type": "code",
   "execution_count": 13,
   "metadata": {},
   "outputs": [],
   "source": [
    "# 5로 진행 20으로 진행 이후 svm도 써보자 "
   ]
  },
  {
   "cell_type": "code",
   "execution_count": 20,
   "metadata": {},
   "outputs": [
    {
     "name": "stderr",
     "output_type": "stream",
     "text": [
      "Processing folds:   0%|          | 0/5 [00:00<?, ?it/s]"
     ]
    },
    {
     "name": "stderr",
     "output_type": "stream",
     "text": [
      "Processing folds: 100%|██████████| 5/5 [14:03<00:00, 168.60s/it]"
     ]
    },
    {
     "name": "stdout",
     "output_type": "stream",
     "text": [
      "NMAE scores for each fold: [0.2634013722835396, 0.27196318963104876, 0.2635456845605247, 0.2683748775832454, 0.25773911744992983]\n",
      "Average NMAE: 0.2650048483016576\n"
     ]
    },
    {
     "name": "stderr",
     "output_type": "stream",
     "text": [
      "\n"
     ]
    }
   ],
   "source": [
    "from sklearn.svm import SVR\n",
    "from sklearn.linear_model import Ridge\n",
    "\n",
    "# 두 개의 모델 정의\n",
    "rf = RandomForestRegressor()\n",
    "gb = Ridge()\n",
    "\n",
    "# 5-Fold 설정\n",
    "kf = KFold(n_splits=5, shuffle=True, random_state=42)\n",
    "\n",
    "# 각 fold의 모델로부터의 예측을 저장할 리스트와 NMAE 점수 리스트\n",
    "ensemble_predictions = []\n",
    "nmae_scores = []\n",
    "\n",
    "for train_idx, val_idx in tqdm(kf.split(X), total=5, desc=\"Processing folds\"):\n",
    "    X_train, X_val = X.iloc[train_idx], X.iloc[val_idx]\n",
    "    y_train, y_val = Y[train_idx], Y[val_idx]\n",
    "    \n",
    "    # 두 모델 모두 학습\n",
    "    rf.fit(X_train, y_train)\n",
    "    gb.fit(X_train, y_train)\n",
    "    \n",
    "    # 각 모델로부터 Validation set에 대한 예측을 평균내어 앙상블 예측 생성\n",
    "    ensemble_val_pred = (rf.predict(X_val) + gb.predict(X_val)) / 2\n",
    "    \n",
    "    # NMAE (Normalized MAE) 계산 후 저장\n",
    "    mae = mean_absolute_error(y_val, ensemble_val_pred)\n",
    "    nmae = mae / np.mean(abs(y_val))\n",
    "    nmae_scores.append(nmae)\n",
    "    \n",
    "    # test 데이터셋에 대한 예측 수행 후 저장\n",
    "    rf_pred = rf.predict(X_test)\n",
    "    gb_pred = gb.predict(X_test)\n",
    "    \n",
    "    # 두 모델의 예측을 평균내어 앙상블 예측 생성\n",
    "    ensemble_pred = (rf_pred + gb_pred) / 2\n",
    "    ensemble_predictions.append(ensemble_pred)\n",
    "\n",
    "# K-fold 모든 예측의 평균을 계산하여 최종 앙상블 예측 생성\n",
    "final_predictions = np.mean(ensemble_predictions, axis=0)\n",
    "\n",
    "# 각 fold에서의 NMAE와 전체 평균 NMAE 출력\n",
    "print(\"NMAE scores for each fold:\", nmae_scores)\n",
    "print(\"Average NMAE:\", np.mean(nmae_scores))"
   ]
  },
  {
   "cell_type": "markdown",
   "metadata": {},
   "source": [
    "# 파일 저장"
   ]
  },
  {
   "cell_type": "code",
   "execution_count": 16,
   "metadata": {},
   "outputs": [
    {
     "data": {
      "text/html": [
       "<div>\n",
       "<style scoped>\n",
       "    .dataframe tbody tr th:only-of-type {\n",
       "        vertical-align: middle;\n",
       "    }\n",
       "\n",
       "    .dataframe tbody tr th {\n",
       "        vertical-align: top;\n",
       "    }\n",
       "\n",
       "    .dataframe thead th {\n",
       "        text-align: right;\n",
       "    }\n",
       "</style>\n",
       "<table border=\"1\" class=\"dataframe\">\n",
       "  <thead>\n",
       "    <tr style=\"text-align: right;\">\n",
       "      <th></th>\n",
       "      <th>ID</th>\n",
       "      <th>critical_temp</th>\n",
       "    </tr>\n",
       "  </thead>\n",
       "  <tbody>\n",
       "    <tr>\n",
       "      <th>0</th>\n",
       "      <td>TEST_00000</td>\n",
       "      <td>2.897254</td>\n",
       "    </tr>\n",
       "    <tr>\n",
       "      <th>1</th>\n",
       "      <td>TEST_00001</td>\n",
       "      <td>4.060731</td>\n",
       "    </tr>\n",
       "    <tr>\n",
       "      <th>2</th>\n",
       "      <td>TEST_00002</td>\n",
       "      <td>12.672299</td>\n",
       "    </tr>\n",
       "  </tbody>\n",
       "</table>\n",
       "</div>"
      ],
      "text/plain": [
       "           ID  critical_temp\n",
       "0  TEST_00000       2.897254\n",
       "1  TEST_00001       4.060731\n",
       "2  TEST_00002      12.672299"
      ]
     },
     "execution_count": 16,
     "metadata": {},
     "output_type": "execute_result"
    }
   ],
   "source": [
    "submission['critical_temp'] = final_predictions\n",
    "submission.head(3)"
   ]
  },
  {
   "cell_type": "code",
   "execution_count": 17,
   "metadata": {},
   "outputs": [],
   "source": [
    "submission.to_csv('E:/초전도체/초전도체/models/baseline_submit.csv', index=False)"
   ]
  },
  {
   "cell_type": "code",
   "execution_count": null,
   "metadata": {},
   "outputs": [],
   "source": []
  }
 ],
 "metadata": {
  "kernelspec": {
   "display_name": "PyTorch 1.14 (NGC 22.12/Python 3.8) on Backend.AI",
   "language": "python",
   "name": "python3"
  },
  "language_info": {
   "codemirror_mode": {
    "name": "ipython",
    "version": 3
   },
   "file_extension": ".py",
   "mimetype": "text/x-python",
   "name": "python",
   "nbconvert_exporter": "python",
   "pygments_lexer": "ipython3",
   "version": "3.10.11"
  }
 },
 "nbformat": 4,
 "nbformat_minor": 4
}
